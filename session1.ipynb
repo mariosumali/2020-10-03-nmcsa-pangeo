{
 "cells": [
  {
   "cell_type": "markdown",
   "metadata": {},
   "source": [
    "# NM Supercomputing Challenge 2020"
   ]
  },
  {
   "cell_type": "markdown",
   "metadata": {},
   "source": [
    "## Session #1 (Mark Servilla): Introduction to Git and GitHub, Jupyter Notebooks, Python, and pandas"
   ]
  },
  {
   "cell_type": "markdown",
   "metadata": {},
   "source": [
    "---\n",
    "## Interacting with Git and GitHub\n",
    "\n",
    " 1. Fork the [2020-10-03-nmcsa-pangeo](https://github.com/nmcarpentries/2020-10-03-nmcsa-pangeo) repository to your GitHub account\n",
    " 1. Click on the **launch-binder** button near the top of the README.md file (see README.md instructions)\n",
    " 1. Once the *Pangeo Binder* is launched and you see the *JupyterLab* environment, click on the **terminal** button near the bottom of the *Launcher* tab\n",
    " 1. In the terminal window (Linxu Bash shell), we will configure this local Git instance for your profile and set it up to use your \"forked\" repository for saving changes from this Binder environment to your GitHub account:  \n",
    "   ```\n",
    "   export PS1=\"> \"\n",
    "   git config user.email \"mark.servilla@gmail.com\"\n",
    "   git config user.name \"Mark Servilla\"\n",
    "   git remote set-url origin https://github.com/servilla/2020-10-03-nmcsa-pangeo\n",
    "   git remote -v\n",
    "     origin  https://github.com/servilla/2020-10-03-nmcsa-pangeo (fetch)\n",
    "     origin  https://github.com/servilla/2020-10-03-nmcsa-pangeo (push)\n",
    "   ```"
   ]
  },
  {
   "cell_type": "markdown",
   "metadata": {},
   "source": [
    " #### Come to this step at the end of each session\n",
    " 5. To save the work you have just done in this session, we'll use Git to *push* our changes back to your GitHub account. But first, you should always perform a `git pull` before doing your *push*:\n",
    "   ```\n",
    "   git pull\n",
    "   git add *\n",
    "   git commit -m \"Saving changes to GitHub\"\n",
    "   git push\n",
    "     Username for 'https://github.com': servilla\n",
    "     Password for 'https://servilla@github.com':\n",
    "     Counting objects: 4, done.\n",
    "     Delta compression using up to 6 threads.\n",
    "     Compressing objects: 100% (3/3), done.\n",
    "     Writing objects: 100% (4/4), 505 bytes | 505.00 KiB/s, done.\n",
    "     Total 4 (delta 2), reused 0 (delta 0)\n",
    "     remote: Resolving deltas: 100% (2/2), completed with 2 local objects.\n",
    "     To https://github.com/servilla/2020-10-03-nmcsa-pangeo\n",
    "        2963446..0e25a7d  master -> master\n",
    "   ```"
   ]
  },
  {
   "cell_type": "markdown",
   "metadata": {},
   "source": [
    "---\n",
    "## Working with Jupyter Notebooks\n",
    "\n",
    "\"Jupyter notebooks are documents that combine live runnable code with narrative text (Markdown), equations (LaTeX), images, interactive visualizations and other rich output. Jupyter notebooks (.ipynb files) are fully supported in JupyterLab. The notebook document format used in JupyterLab is the same as in the classic Jupyter Notebook. Your existing notebooks should open correctly in JupyterLab.\" - https://jupyterlab.readthedocs.io/en/stable/user/notebook.html\n",
    "\n",
    "Types of cells:\n",
    "  1. Raw cell - to display raw text\n",
    "  1. Code cell - to enter and execute code\n",
    "  1. Markdown cell - to enter and display markdown (like this cell)\n",
    "\n",
    "Common keyboard commands:\n",
    " - Esc - Enter command mode\n",
    " - Enter - Enter edit mode\n",
    " - Ctrl-Enter - Run cell\n",
    " - Alt-Enter - Run cell and insert new cell below\n",
    " - X - Delete cell\n",
    " - C - Copy Cell\n",
    " - A - Insert cell above\n",
    " - B - Insert cell below\n",
    "\n",
    "[Keyboard Shortcuts](https://blog.ja-ke.tech/assets/jupyterlab-shortcuts/Shortcuts2020.png)"
   ]
  },
  {
   "cell_type": "markdown",
   "metadata": {},
   "source": [
    "---\n",
    "## Python quickstart"
   ]
  },
  {
   "cell_type": "markdown",
   "metadata": {},
   "source": [
    "What is Python?\n",
    " - named after the British comedy troup \"Monty Python\"\n",
    " - is an interpreted computer language\n",
    " - developed by Guido van Rossum in 1991."
   ]
  },
  {
   "cell_type": "markdown",
   "metadata": {},
   "source": [
    "### Comments:"
   ]
  },
  {
   "cell_type": "code",
   "execution_count": 1,
   "metadata": {},
   "outputs": [],
   "source": [
    "x = 1  # Comments begin with a \"hash\" or \"sharp\" character x = 1"
   ]
  },
  {
   "cell_type": "markdown",
   "metadata": {},
   "source": [
    "### Built in data types:"
   ]
  },
  {
   "cell_type": "code",
   "execution_count": 2,
   "metadata": {},
   "outputs": [],
   "source": [
    "# Variables in python are symbolic names for data expressions and are created\n",
    "# with the assignment operator \"=\"; variable names may include numbers, but\n",
    "# must start with a letter:\n",
    "\n",
    "text = \"Data Carpentry\"  # An example of a string\n",
    "number = 42  # An example of an integer\n",
    "pi_value = 3.1415  # An example of a float\n",
    "is_true = True  # An example of a boolean"
   ]
  },
  {
   "cell_type": "code",
<<<<<<< HEAD
   "execution_count": 5,
=======
   "execution_count": 3,
>>>>>>> cb7acbae681d1f0e2ddd924edda07fe0d3edb69f
   "metadata": {},
   "outputs": [
    {
     "data": {
      "text/plain": [
       "'Data Carpentry'"
      ]
     },
<<<<<<< HEAD
     "execution_count": 5,
=======
     "execution_count": 3,
>>>>>>> cb7acbae681d1f0e2ddd924edda07fe0d3edb69f
     "metadata": {},
     "output_type": "execute_result"
    }
   ],
   "source": [
    "text"
   ]
  },
  {
   "cell_type": "code",
<<<<<<< HEAD
   "execution_count": 6,
=======
   "execution_count": 4,
>>>>>>> cb7acbae681d1f0e2ddd924edda07fe0d3edb69f
   "metadata": {},
   "outputs": [
    {
     "data": {
      "text/plain": [
       "42"
      ]
     },
<<<<<<< HEAD
     "execution_count": 6,
=======
     "execution_count": 4,
>>>>>>> cb7acbae681d1f0e2ddd924edda07fe0d3edb69f
     "metadata": {},
     "output_type": "execute_result"
    }
   ],
   "source": [
    "number"
   ]
  },
  {
   "cell_type": "code",
<<<<<<< HEAD
   "execution_count": 7,
=======
   "execution_count": 5,
>>>>>>> cb7acbae681d1f0e2ddd924edda07fe0d3edb69f
   "metadata": {},
   "outputs": [
    {
     "data": {
      "text/plain": [
       "3.1415"
      ]
     },
<<<<<<< HEAD
     "execution_count": 7,
=======
     "execution_count": 5,
>>>>>>> cb7acbae681d1f0e2ddd924edda07fe0d3edb69f
     "metadata": {},
     "output_type": "execute_result"
    }
   ],
   "source": [
    "pi_value"
   ]
  },
  {
   "cell_type": "code",
<<<<<<< HEAD
   "execution_count": 8,
=======
   "execution_count": 6,
>>>>>>> cb7acbae681d1f0e2ddd924edda07fe0d3edb69f
   "metadata": {},
   "outputs": [
    {
     "data": {
      "text/plain": [
       "True"
      ]
     },
<<<<<<< HEAD
     "execution_count": 8,
=======
     "execution_count": 6,
>>>>>>> cb7acbae681d1f0e2ddd924edda07fe0d3edb69f
     "metadata": {},
     "output_type": "execute_result"
    }
   ],
   "source": [
    "is_true"
   ]
  },
  {
   "cell_type": "code",
<<<<<<< HEAD
   "execution_count": 9,
=======
   "execution_count": 7,
>>>>>>> cb7acbae681d1f0e2ddd924edda07fe0d3edb69f
   "metadata": {},
   "outputs": [
    {
     "name": "stdout",
     "output_type": "stream",
     "text": [
      "This is a text string:  Data Carpentry\n",
      "This is an integer number:  42\n",
      "This is a floating point or real number:  3.1415\n",
      "This is a boolean:  True\n"
     ]
    }
   ],
   "source": [
    "# We can also use the built-in function \"print\" to produce visual output of\n",
    "# expressions and variables\n",
    "\n",
    "print(\"This is a text string: \", text)\n",
    "print(\"This is an integer number: \", number)\n",
    "print(\"This is a floating point or real number: \", pi_value)\n",
    "print(\"This is a boolean: \", is_true)"
   ]
  },
  {
   "cell_type": "code",
<<<<<<< HEAD
   "execution_count": 10,
=======
   "execution_count": 8,
>>>>>>> cb7acbae681d1f0e2ddd924edda07fe0d3edb69f
   "metadata": {},
   "outputs": [
    {
     "name": "stdout",
     "output_type": "stream",
     "text": [
      "text is type:  <class 'str'>\n",
      "number is type:  <class 'int'>\n",
      "pi_value is type:  <class 'float'>\n",
      "is_true is type:  <class 'bool'>\n"
     ]
    }
   ],
   "source": [
    "# The built-in \"type\" function tells us what data type each variable is using\n",
    "\n",
    "print(\"text is type: \", type(text))\n",
    "print(\"number is type: \", type(number))\n",
    "print(\"pi_value is type: \", type(pi_value))\n",
    "print(\"is_true is type: \", type(is_true))"
   ]
  },
  {
   "cell_type": "markdown",
   "metadata": {},
   "source": [
    "### Operators:"
   ]
  },
  {
   "cell_type": "code",
<<<<<<< HEAD
   "execution_count": 13,
=======
   "execution_count": 10,
>>>>>>> cb7acbae681d1f0e2ddd924edda07fe0d3edb69f
   "metadata": {},
   "outputs": [],
   "source": [
    "# We can perform mathematical calculations in Python using the basic operators\n",
    "# +, -, /, *, %\n",
    "\n",
    "addition = 2 + 2\n",
    "subtraction = 10 - 5\n",
    "multiplication = 4 * 2\n",
    "float_quotient = 12 / 5\n",
    "integer_quotient = 12 // 5\n",
    "remainder = 12 % 5\n",
    "exponentiation = 2 ** 10"
   ]
  },
  {
   "cell_type": "code",
<<<<<<< HEAD
   "execution_count": 14,
=======
   "execution_count": 11,
>>>>>>> cb7acbae681d1f0e2ddd924edda07fe0d3edb69f
   "metadata": {},
   "outputs": [
    {
     "name": "stdout",
     "output_type": "stream",
     "text": [
      "addition = 2 + 2:  4\n",
      "subtraction = 10 - 5:  5\n",
      "multiplication = 4 * 2:  8\n",
      "float_quotient = 12 / 5:  2.4\n",
      "integer_quotient = 12 // 5:  2\n",
      "remainder = 12 % 5:  2\n",
      "exponentiation = 2 ** 10:  1024\n"
     ]
    }
   ],
   "source": [
    "print(\"addition = 2 + 2: \", addition)\n",
    "print(\"subtraction = 10 - 5: \", subtraction)\n",
    "print(\"multiplication = 4 * 2: \", multiplication)\n",
    "print(\"float_quotient = 12 / 5: \", float_quotient)\n",
    "print(\"integer_quotient = 12 // 5: \", integer_quotient)\n",
    "print(\"remainder = 12 % 5: \", remainder)\n",
    "print(\"exponentiation = 2 ** 10: \", exponentiation)"
   ]
  },
  {
   "cell_type": "code",
<<<<<<< HEAD
   "execution_count": 15,
=======
   "execution_count": 14,
>>>>>>> cb7acbae681d1f0e2ddd924edda07fe0d3edb69f
   "metadata": {},
   "outputs": [],
   "source": [
    "# We can also use conditional operators: <, >, ==, !=, <=, >=\n",
    "\n",
    "less_than = 7 < 6\n",
    "greater_than = 6 > 4\n",
    "is_equal = 5 == 5\n",
    "is_not_equal = 5 != 7\n",
    "less_than_or_equal = 2 <= 3\n",
    "greater_than_or_equal = 4 >= 3"
   ]
  },
  {
   "cell_type": "code",
<<<<<<< HEAD
   "execution_count": 16,
=======
   "execution_count": 15,
>>>>>>> cb7acbae681d1f0e2ddd924edda07fe0d3edb69f
   "metadata": {},
   "outputs": [
    {
     "name": "stdout",
     "output_type": "stream",
     "text": [
<<<<<<< HEAD
      "less_than = 5 < 6:  True\n",
=======
      "less_than = 7 < 6:  False\n",
>>>>>>> cb7acbae681d1f0e2ddd924edda07fe0d3edb69f
      "greater_than = 6 > 4:  True\n",
      "is_equal = 5 == 5:  True\n",
      "is_not_equal = 5 != 7:  True\n",
      "less_than_or_equal = 2 <= 3:  True\n",
      "greater_than_or_equal = 4 >= 3:  True\n"
     ]
    }
   ],
   "source": [
<<<<<<< HEAD
    "print(\"less_than = 5 < 6: \", less_than)\n",
=======
    "print(\"less_than = 7 < 6: \", less_than)\n",
>>>>>>> cb7acbae681d1f0e2ddd924edda07fe0d3edb69f
    "print(\"greater_than = 6 > 4: \", greater_than)\n",
    "print(\"is_equal = 5 == 5: \", is_equal)\n",
    "print(\"is_not_equal = 5 != 7: \", is_not_equal)\n",
    "print(\"less_than_or_equal = 2 <= 3: \", less_than_or_equal)\n",
    "print(\"greater_than_or_equal = 4 >= 3: \",greater_than_or_equal)"
   ]
  },
  {
   "cell_type": "code",
<<<<<<< HEAD
   "execution_count": 17,
=======
   "execution_count": 16,
>>>>>>> cb7acbae681d1f0e2ddd924edda07fe0d3edb69f
   "metadata": {},
   "outputs": [],
   "source": [
    "# And logical comparisons using and, or, & not identities\n",
    "\n",
    "and_comparison = True and True\n",
    "or_comparison = True or False\n",
    "not_comparison = not False"
   ]
  },
  {
   "cell_type": "code",
<<<<<<< HEAD
   "execution_count": 18,
=======
   "execution_count": 17,
>>>>>>> cb7acbae681d1f0e2ddd924edda07fe0d3edb69f
   "metadata": {},
   "outputs": [
    {
     "name": "stdout",
     "output_type": "stream",
     "text": [
      "and_comparison = True and True:  True\n",
      "or_comparison = True or False:  True\n",
      "not_comparison = not False:  True\n"
     ]
    }
   ],
   "source": [
    "print(\"and_comparison = True and True: \", and_comparison)\n",
    "print(\"or_comparison = True or False: \", or_comparison)\n",
    "print(\"not_comparison = not False: \", not_comparison)"
   ]
  },
  {
   "cell_type": "markdown",
   "metadata": {},
   "source": [
    "### Lists and Dictionaries:"
   ]
  },
  {
   "cell_type": "code",
<<<<<<< HEAD
   "execution_count": 21,
=======
   "execution_count": 18,
>>>>>>> cb7acbae681d1f0e2ddd924edda07fe0d3edb69f
   "metadata": {},
   "outputs": [
    {
     "data": {
      "text/plain": [
       "1"
      ]
     },
<<<<<<< HEAD
     "execution_count": 21,
=======
     "execution_count": 18,
>>>>>>> cb7acbae681d1f0e2ddd924edda07fe0d3edb69f
     "metadata": {},
     "output_type": "execute_result"
    }
   ],
   "source": [
    "# Lists are a common data structure to hold an ordered sequence of elements.\n",
    "# Each element can be accessed by an index. Note that Python indexes start\n",
    "# with 0 instead of 1\n",
    "\n",
    "numbers = [1, 2, 3]\n",
    "numbers[0]"
   ]
  },
  {
   "cell_type": "code",
<<<<<<< HEAD
   "execution_count": 20,
=======
   "execution_count": 19,
>>>>>>> cb7acbae681d1f0e2ddd924edda07fe0d3edb69f
   "metadata": {},
   "outputs": [
    {
     "name": "stdout",
     "output_type": "stream",
     "text": [
      "1\n",
      "2\n",
      "3\n"
     ]
    }
   ],
   "source": [
    "# A for loop can be used to access the elements in a list or other Python\n",
    "# data structure one at a time. Indentation is very important in Python.\n",
    "# Note that the second line in the example below is indented.\n",
    "\n",
    "for num in numbers:\n",
    "    print(num)"
   ]
  },
  {
   "cell_type": "code",
<<<<<<< HEAD
   "execution_count": 22,
=======
   "execution_count": 20,
>>>>>>> cb7acbae681d1f0e2ddd924edda07fe0d3edb69f
   "metadata": {},
   "outputs": [
    {
     "name": "stdout",
     "output_type": "stream",
     "text": [
      "[1, 2, 3, 4]\n"
     ]
    }
   ],
   "source": [
    "# To add elements to the end of a list, we can use the append method. Methods\n",
    "# are a way to interact with an object (a list, for example). We can invoke a\n",
    "# method using the dot . followed by the method name and a list of arguments\n",
    "# in parentheses. Let’s look at an example using append:\n",
    "\n",
    "numbers.append(4)\n",
    "print(numbers)"
   ]
  },
  {
   "cell_type": "code",
<<<<<<< HEAD
   "execution_count": 23,
=======
   "execution_count": 22,
>>>>>>> cb7acbae681d1f0e2ddd924edda07fe0d3edb69f
   "metadata": {},
   "outputs": [
    {
     "data": {
      "text/plain": [
<<<<<<< HEAD
       "'first'"
      ]
     },
     "execution_count": 23,
=======
       "'second'"
      ]
     },
     "execution_count": 22,
>>>>>>> cb7acbae681d1f0e2ddd924edda07fe0d3edb69f
     "metadata": {},
     "output_type": "execute_result"
    }
   ],
   "source": [
    "# A dictionary is a container that holds pairs of objects - keys and values:\n",
    "\n",
    "translation = {'one': 'first', 'two': 'second'}\n",
    "translation['two']"
   ]
  },
  {
   "cell_type": "code",
<<<<<<< HEAD
   "execution_count": 25,
=======
   "execution_count": 23,
>>>>>>> cb7acbae681d1f0e2ddd924edda07fe0d3edb69f
   "metadata": {},
   "outputs": [
    {
     "name": "stdout",
     "output_type": "stream",
     "text": [
      "{'first': 'one', 'second': 'two'}\n",
<<<<<<< HEAD
      "{'first': 'one', 'second': 'two', 'lsdjfksdf': 'three'}\n"
=======
      "{'first': 'one', 'second': 'two', 'third': 'three'}\n"
>>>>>>> cb7acbae681d1f0e2ddd924edda07fe0d3edb69f
     ]
    }
   ],
   "source": [
    "# To add an item to the dictionary we assign a value to a new key:\n",
    "\n",
    "rev = {'first': 'one', 'second': 'two'}\n",
    "print(rev)\n",
    "rev['lsdjfksdf'] = 'three'\n",
    "print(rev)"
   ]
  },
  {
   "cell_type": "code",
<<<<<<< HEAD
   "execution_count": 26,
=======
   "execution_count": 24,
>>>>>>> cb7acbae681d1f0e2ddd924edda07fe0d3edb69f
   "metadata": {},
   "outputs": [
    {
     "name": "stdout",
     "output_type": "stream",
     "text": [
      "first -> one\n",
      "second -> two\n",
<<<<<<< HEAD
      "lsdjfksdf -> three\n"
=======
      "third -> three\n"
>>>>>>> cb7acbae681d1f0e2ddd924edda07fe0d3edb69f
     ]
    }
   ],
   "source": [
    "# Using for loops with dictionaries is a little more complicated:\n",
    "\n",
    "for key, value in rev.items():\n",
    "    print(key, '->', value)"
   ]
  },
  {
   "cell_type": "markdown",
   "metadata": {},
   "source": [
    "### Functions:"
   ]
  },
  {
   "cell_type": "code",
<<<<<<< HEAD
   "execution_count": 27,
=======
   "execution_count": 25,
>>>>>>> cb7acbae681d1f0e2ddd924edda07fe0d3edb69f
   "metadata": {},
   "outputs": [
    {
     "name": "stdout",
     "output_type": "stream",
     "text": [
      "42\n"
     ]
    }
   ],
   "source": [
    "# Defining a section of code as a function in Python is done using the def\n",
    "# keyword. For example a function that takes two arguments and returns their\n",
    "# sum can be defined as:\n",
    "\n",
    "def add_function(a, b):\n",
    "    result = a + b\n",
    "    return result\n",
    "\n",
    "z = add_function(20, 22)\n",
    "print(z)"
   ]
  },
  {
   "cell_type": "markdown",
   "metadata": {},
   "source": [
    "---\n",
    "## Introduction to Python Pandas"
   ]
  },
  {
   "cell_type": "markdown",
   "metadata": {},
   "source": [
    " - \"pandas is a Python package providing fast, flexible, and expressive data structures designed to make working with “relational” or “labeled” data both easy and intuitive. It aims to be the fundamental high-level building block for doing practical, real world data analysis in Python.\" - https://pandas.pydata.org/pandas-docs/stable/getting_started/overview.html\n",
    " - pandas was created by Wes McKinney in 2008 and the name *pandas* is derived from the term \"panel data\" used in the field of economics.\n",
    " - Think of pandas as a combination of spreadsheet, database, and statiscal software rolled into a single Python package."
   ]
  },
  {
   "cell_type": "markdown",
   "metadata": {},
   "source": [
    "Python doesn’t load all of the libraries available to it by default. We have to add an import statement to our code in order to use library functions. To import a library, we use the syntax import libraryName. If we want to give the library a nickname to shorten the command, we can add as nickNameHere. An example of importing the pandas library using the common nickname pd is below.\n",
    "\n",
    "You must install, then `import` pandas to use it in the notebook:"
   ]
  },
  {
   "cell_type": "code",
<<<<<<< HEAD
   "execution_count": 28,
=======
   "execution_count": 26,
>>>>>>> cb7acbae681d1f0e2ddd924edda07fe0d3edb69f
   "metadata": {},
   "outputs": [
    {
     "name": "stdout",
     "output_type": "stream",
     "text": [
      "WARNING: pip is being invoked by an old script wrapper. This will fail in a future version of pip.\n",
      "Please see https://github.com/pypa/pip/issues/5599 for advice on fixing the underlying issue.\n",
      "To avoid this problem you can invoke Python with '-m pip' instead of running pip directly.\n",
      "Collecting pandas\n",
      "  Downloading pandas-1.1.2-cp37-cp37m-manylinux1_x86_64.whl (10.5 MB)\n",
<<<<<<< HEAD
      "\u001b[K     |████████████████████████████████| 10.5 MB 3.2 MB/s eta 0:00:01\n",
      "\u001b[?25hCollecting pytz>=2017.2\n",
      "  Downloading pytz-2020.1-py2.py3-none-any.whl (510 kB)\n",
      "\u001b[K     |████████████████████████████████| 510 kB 49.6 MB/s eta 0:00:01\n",
      "\u001b[?25hCollecting numpy>=1.15.4\n",
      "  Downloading numpy-1.19.2-cp37-cp37m-manylinux2010_x86_64.whl (14.5 MB)\n",
      "\u001b[K     |████████████████████████████████| 14.5 MB 51.6 MB/s eta 0:00:01\n",
      "\u001b[?25hRequirement already satisfied: python-dateutil>=2.7.3 in /srv/conda/envs/notebook/lib/python3.7/site-packages (from pandas) (2.8.1)\n",
      "Requirement already satisfied: six>=1.5 in /srv/conda/envs/notebook/lib/python3.7/site-packages (from python-dateutil>=2.7.3->pandas) (1.14.0)\n",
=======
      "\u001b[K     |████████████████████████████████| 10.5 MB 3.3 MB/s eta 0:00:01\n",
      "\u001b[?25hRequirement already satisfied: python-dateutil>=2.7.3 in /srv/conda/envs/notebook/lib/python3.7/site-packages (from pandas) (2.8.1)\n",
      "Collecting pytz>=2017.2\n",
      "  Downloading pytz-2020.1-py2.py3-none-any.whl (510 kB)\n",
      "\u001b[K     |████████████████████████████████| 510 kB 34.1 MB/s eta 0:00:01\n",
      "\u001b[?25hCollecting numpy>=1.15.4\n",
      "  Downloading numpy-1.19.2-cp37-cp37m-manylinux2010_x86_64.whl (14.5 MB)\n",
      "\u001b[K     |████████████████████████████████| 14.5 MB 43.1 MB/s eta 0:00:01\n",
      "\u001b[?25hRequirement already satisfied: six>=1.5 in /srv/conda/envs/notebook/lib/python3.7/site-packages (from python-dateutil>=2.7.3->pandas) (1.14.0)\n",
>>>>>>> cb7acbae681d1f0e2ddd924edda07fe0d3edb69f
      "Installing collected packages: pytz, numpy, pandas\n",
      "Successfully installed numpy-1.19.2 pandas-1.1.2 pytz-2020.1\n"
     ]
    }
   ],
   "source": [
    "# The exclamation point built-in allows you to execute shell commands\n",
    "\n",
    "!pip install pandas"
   ]
  },
  {
   "cell_type": "code",
<<<<<<< HEAD
   "execution_count": 29,
=======
   "execution_count": 27,
>>>>>>> cb7acbae681d1f0e2ddd924edda07fe0d3edb69f
   "metadata": {},
   "outputs": [],
   "source": [
    "import pandas as pd"
   ]
  },
  {
   "cell_type": "markdown",
   "metadata": {},
   "source": [
    "### What is a pandas' DataFrame?\n",
    "\n",
    "\"A DataFrame is a 2-dimensional data structure that can store data of different types (including characters, integers, floating point values, factors and more) in columns. It is similar to a spreadsheet or an SQL table or the `data.frame` in R. A DataFrame always has an index (0-based). An index refers to the position of an element in the data structure.\" - https://datacarpentry.org/python-ecology-lesson/02-starting-with-data/index.html"
   ]
  },
  {
   "cell_type": "markdown",
   "metadata": {},
   "source": [
    "Reading the data file `./data/surveys.csv`:"
   ]
  },
  {
   "cell_type": "code",
<<<<<<< HEAD
   "execution_count": 30,
=======
   "execution_count": 28,
>>>>>>> cb7acbae681d1f0e2ddd924edda07fe0d3edb69f
   "metadata": {},
   "outputs": [],
   "source": [
    "# Note that pd.read_csv is used because we imported pandas as pd\n",
    "surveys_df = pd.read_csv(\"data/surveys.csv\")"
   ]
  },
  {
   "cell_type": "markdown",
   "metadata": {},
   "source": [
    "### Viewing the contents of a the *surveys* DataFrame:"
   ]
  },
  {
   "cell_type": "code",
<<<<<<< HEAD
   "execution_count": 31,
=======
   "execution_count": 29,
>>>>>>> cb7acbae681d1f0e2ddd924edda07fe0d3edb69f
   "metadata": {},
   "outputs": [
    {
     "name": "stdout",
     "output_type": "stream",
     "text": [
      "       record_id  month  day  year  plot_id species_id  sex  hindfoot_length  \\\n",
      "0              1      7   16  1977        2         NL    M             32.0   \n",
      "1              2      7   16  1977        3         NL    M             33.0   \n",
      "2              3      7   16  1977        2         DM    F             37.0   \n",
      "3              4      7   16  1977        7         DM    M             36.0   \n",
      "4              5      7   16  1977        3         DM    M             35.0   \n",
      "...          ...    ...  ...   ...      ...        ...  ...              ...   \n",
      "35544      35545     12   31  2002       15         AH  NaN              NaN   \n",
      "35545      35546     12   31  2002       15         AH  NaN              NaN   \n",
      "35546      35547     12   31  2002       10         RM    F             15.0   \n",
      "35547      35548     12   31  2002        7         DO    M             36.0   \n",
      "35548      35549     12   31  2002        5        NaN  NaN              NaN   \n",
      "\n",
      "       weight  \n",
      "0         NaN  \n",
      "1         NaN  \n",
      "2         NaN  \n",
      "3         NaN  \n",
      "4         NaN  \n",
      "...       ...  \n",
      "35544     NaN  \n",
      "35545     NaN  \n",
      "35546    14.0  \n",
      "35547    51.0  \n",
      "35548     NaN  \n",
      "\n",
      "[35549 rows x 9 columns]\n"
     ]
    }
   ],
   "source": [
    "# We can use the print function to display the DataFrame:\n",
    "\n",
    "print(surveys_df)"
   ]
  },
  {
   "cell_type": "code",
<<<<<<< HEAD
   "execution_count": 32,
=======
   "execution_count": 30,
>>>>>>> cb7acbae681d1f0e2ddd924edda07fe0d3edb69f
   "metadata": {},
   "outputs": [
    {
     "data": {
      "text/html": [
       "<div>\n",
       "<style scoped>\n",
       "    .dataframe tbody tr th:only-of-type {\n",
       "        vertical-align: middle;\n",
       "    }\n",
       "\n",
       "    .dataframe tbody tr th {\n",
       "        vertical-align: top;\n",
       "    }\n",
       "\n",
       "    .dataframe thead th {\n",
       "        text-align: right;\n",
       "    }\n",
       "</style>\n",
       "<table border=\"1\" class=\"dataframe\">\n",
       "  <thead>\n",
       "    <tr style=\"text-align: right;\">\n",
       "      <th></th>\n",
       "      <th>record_id</th>\n",
       "      <th>month</th>\n",
       "      <th>day</th>\n",
       "      <th>year</th>\n",
       "      <th>plot_id</th>\n",
       "      <th>species_id</th>\n",
       "      <th>sex</th>\n",
       "      <th>hindfoot_length</th>\n",
       "      <th>weight</th>\n",
       "    </tr>\n",
       "  </thead>\n",
       "  <tbody>\n",
       "    <tr>\n",
       "      <th>0</th>\n",
       "      <td>1</td>\n",
       "      <td>7</td>\n",
       "      <td>16</td>\n",
       "      <td>1977</td>\n",
       "      <td>2</td>\n",
       "      <td>NL</td>\n",
       "      <td>M</td>\n",
       "      <td>32.0</td>\n",
       "      <td>NaN</td>\n",
       "    </tr>\n",
       "    <tr>\n",
       "      <th>1</th>\n",
       "      <td>2</td>\n",
       "      <td>7</td>\n",
       "      <td>16</td>\n",
       "      <td>1977</td>\n",
       "      <td>3</td>\n",
       "      <td>NL</td>\n",
       "      <td>M</td>\n",
       "      <td>33.0</td>\n",
       "      <td>NaN</td>\n",
       "    </tr>\n",
       "    <tr>\n",
       "      <th>2</th>\n",
       "      <td>3</td>\n",
       "      <td>7</td>\n",
       "      <td>16</td>\n",
       "      <td>1977</td>\n",
       "      <td>2</td>\n",
       "      <td>DM</td>\n",
       "      <td>F</td>\n",
       "      <td>37.0</td>\n",
       "      <td>NaN</td>\n",
       "    </tr>\n",
       "    <tr>\n",
       "      <th>3</th>\n",
       "      <td>4</td>\n",
       "      <td>7</td>\n",
       "      <td>16</td>\n",
       "      <td>1977</td>\n",
       "      <td>7</td>\n",
       "      <td>DM</td>\n",
       "      <td>M</td>\n",
       "      <td>36.0</td>\n",
       "      <td>NaN</td>\n",
       "    </tr>\n",
       "    <tr>\n",
       "      <th>4</th>\n",
       "      <td>5</td>\n",
       "      <td>7</td>\n",
       "      <td>16</td>\n",
       "      <td>1977</td>\n",
       "      <td>3</td>\n",
       "      <td>DM</td>\n",
       "      <td>M</td>\n",
       "      <td>35.0</td>\n",
       "      <td>NaN</td>\n",
       "    </tr>\n",
       "    <tr>\n",
       "      <th>...</th>\n",
       "      <td>...</td>\n",
       "      <td>...</td>\n",
       "      <td>...</td>\n",
       "      <td>...</td>\n",
       "      <td>...</td>\n",
       "      <td>...</td>\n",
       "      <td>...</td>\n",
       "      <td>...</td>\n",
       "      <td>...</td>\n",
       "    </tr>\n",
       "    <tr>\n",
       "      <th>35544</th>\n",
       "      <td>35545</td>\n",
       "      <td>12</td>\n",
       "      <td>31</td>\n",
       "      <td>2002</td>\n",
       "      <td>15</td>\n",
       "      <td>AH</td>\n",
       "      <td>NaN</td>\n",
       "      <td>NaN</td>\n",
       "      <td>NaN</td>\n",
       "    </tr>\n",
       "    <tr>\n",
       "      <th>35545</th>\n",
       "      <td>35546</td>\n",
       "      <td>12</td>\n",
       "      <td>31</td>\n",
       "      <td>2002</td>\n",
       "      <td>15</td>\n",
       "      <td>AH</td>\n",
       "      <td>NaN</td>\n",
       "      <td>NaN</td>\n",
       "      <td>NaN</td>\n",
       "    </tr>\n",
       "    <tr>\n",
       "      <th>35546</th>\n",
       "      <td>35547</td>\n",
       "      <td>12</td>\n",
       "      <td>31</td>\n",
       "      <td>2002</td>\n",
       "      <td>10</td>\n",
       "      <td>RM</td>\n",
       "      <td>F</td>\n",
       "      <td>15.0</td>\n",
       "      <td>14.0</td>\n",
       "    </tr>\n",
       "    <tr>\n",
       "      <th>35547</th>\n",
       "      <td>35548</td>\n",
       "      <td>12</td>\n",
       "      <td>31</td>\n",
       "      <td>2002</td>\n",
       "      <td>7</td>\n",
       "      <td>DO</td>\n",
       "      <td>M</td>\n",
       "      <td>36.0</td>\n",
       "      <td>51.0</td>\n",
       "    </tr>\n",
       "    <tr>\n",
       "      <th>35548</th>\n",
       "      <td>35549</td>\n",
       "      <td>12</td>\n",
       "      <td>31</td>\n",
       "      <td>2002</td>\n",
       "      <td>5</td>\n",
       "      <td>NaN</td>\n",
       "      <td>NaN</td>\n",
       "      <td>NaN</td>\n",
       "      <td>NaN</td>\n",
       "    </tr>\n",
       "  </tbody>\n",
       "</table>\n",
       "<p>35549 rows × 9 columns</p>\n",
       "</div>"
      ],
      "text/plain": [
       "       record_id  month  day  year  plot_id species_id  sex  hindfoot_length  \\\n",
       "0              1      7   16  1977        2         NL    M             32.0   \n",
       "1              2      7   16  1977        3         NL    M             33.0   \n",
       "2              3      7   16  1977        2         DM    F             37.0   \n",
       "3              4      7   16  1977        7         DM    M             36.0   \n",
       "4              5      7   16  1977        3         DM    M             35.0   \n",
       "...          ...    ...  ...   ...      ...        ...  ...              ...   \n",
       "35544      35545     12   31  2002       15         AH  NaN              NaN   \n",
       "35545      35546     12   31  2002       15         AH  NaN              NaN   \n",
       "35546      35547     12   31  2002       10         RM    F             15.0   \n",
       "35547      35548     12   31  2002        7         DO    M             36.0   \n",
       "35548      35549     12   31  2002        5        NaN  NaN              NaN   \n",
       "\n",
       "       weight  \n",
       "0         NaN  \n",
       "1         NaN  \n",
       "2         NaN  \n",
       "3         NaN  \n",
       "4         NaN  \n",
       "...       ...  \n",
       "35544     NaN  \n",
       "35545     NaN  \n",
       "35546    14.0  \n",
       "35547    51.0  \n",
       "35548     NaN  \n",
       "\n",
       "[35549 rows x 9 columns]"
      ]
     },
<<<<<<< HEAD
     "execution_count": 32,
=======
     "execution_count": 30,
>>>>>>> cb7acbae681d1f0e2ddd924edda07fe0d3edb69f
     "metadata": {},
     "output_type": "execute_result"
    }
   ],
   "source": [
    "# But just letting the Jupyter Notebook format the default output is much nicer:\n",
    "\n",
    "surveys_df"
   ]
  },
  {
   "cell_type": "markdown",
   "metadata": {},
   "source": [
    "### Exploring the structure of the *surveys* DataFrame:"
   ]
  },
  {
   "cell_type": "code",
<<<<<<< HEAD
   "execution_count": 33,
=======
   "execution_count": 31,
>>>>>>> cb7acbae681d1f0e2ddd924edda07fe0d3edb69f
   "metadata": {},
   "outputs": [
    {
     "data": {
      "text/html": [
       "<div>\n",
       "<style scoped>\n",
       "    .dataframe tbody tr th:only-of-type {\n",
       "        vertical-align: middle;\n",
       "    }\n",
       "\n",
       "    .dataframe tbody tr th {\n",
       "        vertical-align: top;\n",
       "    }\n",
       "\n",
       "    .dataframe thead th {\n",
       "        text-align: right;\n",
       "    }\n",
       "</style>\n",
       "<table border=\"1\" class=\"dataframe\">\n",
       "  <thead>\n",
       "    <tr style=\"text-align: right;\">\n",
       "      <th></th>\n",
       "      <th>record_id</th>\n",
       "      <th>month</th>\n",
       "      <th>day</th>\n",
       "      <th>year</th>\n",
       "      <th>plot_id</th>\n",
       "      <th>species_id</th>\n",
       "      <th>sex</th>\n",
       "      <th>hindfoot_length</th>\n",
       "      <th>weight</th>\n",
       "    </tr>\n",
       "  </thead>\n",
       "  <tbody>\n",
       "    <tr>\n",
       "      <th>0</th>\n",
       "      <td>1</td>\n",
       "      <td>7</td>\n",
       "      <td>16</td>\n",
       "      <td>1977</td>\n",
       "      <td>2</td>\n",
       "      <td>NL</td>\n",
       "      <td>M</td>\n",
       "      <td>32.0</td>\n",
       "      <td>NaN</td>\n",
       "    </tr>\n",
       "    <tr>\n",
       "      <th>1</th>\n",
       "      <td>2</td>\n",
       "      <td>7</td>\n",
       "      <td>16</td>\n",
       "      <td>1977</td>\n",
       "      <td>3</td>\n",
       "      <td>NL</td>\n",
       "      <td>M</td>\n",
       "      <td>33.0</td>\n",
       "      <td>NaN</td>\n",
       "    </tr>\n",
       "    <tr>\n",
       "      <th>2</th>\n",
       "      <td>3</td>\n",
       "      <td>7</td>\n",
       "      <td>16</td>\n",
       "      <td>1977</td>\n",
       "      <td>2</td>\n",
       "      <td>DM</td>\n",
       "      <td>F</td>\n",
       "      <td>37.0</td>\n",
       "      <td>NaN</td>\n",
       "    </tr>\n",
       "    <tr>\n",
       "      <th>3</th>\n",
       "      <td>4</td>\n",
       "      <td>7</td>\n",
       "      <td>16</td>\n",
       "      <td>1977</td>\n",
       "      <td>7</td>\n",
       "      <td>DM</td>\n",
       "      <td>M</td>\n",
       "      <td>36.0</td>\n",
       "      <td>NaN</td>\n",
       "    </tr>\n",
       "    <tr>\n",
       "      <th>4</th>\n",
       "      <td>5</td>\n",
       "      <td>7</td>\n",
       "      <td>16</td>\n",
       "      <td>1977</td>\n",
       "      <td>3</td>\n",
       "      <td>DM</td>\n",
       "      <td>M</td>\n",
       "      <td>35.0</td>\n",
       "      <td>NaN</td>\n",
       "    </tr>\n",
       "  </tbody>\n",
       "</table>\n",
       "</div>"
      ],
      "text/plain": [
       "   record_id  month  day  year  plot_id species_id sex  hindfoot_length  \\\n",
       "0          1      7   16  1977        2         NL   M             32.0   \n",
       "1          2      7   16  1977        3         NL   M             33.0   \n",
       "2          3      7   16  1977        2         DM   F             37.0   \n",
       "3          4      7   16  1977        7         DM   M             36.0   \n",
       "4          5      7   16  1977        3         DM   M             35.0   \n",
       "\n",
       "   weight  \n",
       "0     NaN  \n",
       "1     NaN  \n",
       "2     NaN  \n",
       "3     NaN  \n",
       "4     NaN  "
      ]
     },
<<<<<<< HEAD
     "execution_count": 33,
=======
     "execution_count": 31,
>>>>>>> cb7acbae681d1f0e2ddd924edda07fe0d3edb69f
     "metadata": {},
     "output_type": "execute_result"
    }
   ],
   "source": [
    "# We can look at the top of the DataFrame with the head fucntion:\n",
    "\n",
    "surveys_df.head()"
   ]
  },
  {
   "cell_type": "code",
<<<<<<< HEAD
   "execution_count": 34,
=======
   "execution_count": 32,
>>>>>>> cb7acbae681d1f0e2ddd924edda07fe0d3edb69f
   "metadata": {},
   "outputs": [
    {
     "data": {
      "text/html": [
       "<div>\n",
       "<style scoped>\n",
       "    .dataframe tbody tr th:only-of-type {\n",
       "        vertical-align: middle;\n",
       "    }\n",
       "\n",
       "    .dataframe tbody tr th {\n",
       "        vertical-align: top;\n",
       "    }\n",
       "\n",
       "    .dataframe thead th {\n",
       "        text-align: right;\n",
       "    }\n",
       "</style>\n",
       "<table border=\"1\" class=\"dataframe\">\n",
       "  <thead>\n",
       "    <tr style=\"text-align: right;\">\n",
       "      <th></th>\n",
       "      <th>record_id</th>\n",
       "      <th>month</th>\n",
       "      <th>day</th>\n",
       "      <th>year</th>\n",
       "      <th>plot_id</th>\n",
       "      <th>species_id</th>\n",
       "      <th>sex</th>\n",
       "      <th>hindfoot_length</th>\n",
       "      <th>weight</th>\n",
       "    </tr>\n",
       "  </thead>\n",
       "  <tbody>\n",
       "    <tr>\n",
       "      <th>35544</th>\n",
       "      <td>35545</td>\n",
       "      <td>12</td>\n",
       "      <td>31</td>\n",
       "      <td>2002</td>\n",
       "      <td>15</td>\n",
       "      <td>AH</td>\n",
       "      <td>NaN</td>\n",
       "      <td>NaN</td>\n",
       "      <td>NaN</td>\n",
       "    </tr>\n",
       "    <tr>\n",
       "      <th>35545</th>\n",
       "      <td>35546</td>\n",
       "      <td>12</td>\n",
       "      <td>31</td>\n",
       "      <td>2002</td>\n",
       "      <td>15</td>\n",
       "      <td>AH</td>\n",
       "      <td>NaN</td>\n",
       "      <td>NaN</td>\n",
       "      <td>NaN</td>\n",
       "    </tr>\n",
       "    <tr>\n",
       "      <th>35546</th>\n",
       "      <td>35547</td>\n",
       "      <td>12</td>\n",
       "      <td>31</td>\n",
       "      <td>2002</td>\n",
       "      <td>10</td>\n",
       "      <td>RM</td>\n",
       "      <td>F</td>\n",
       "      <td>15.0</td>\n",
       "      <td>14.0</td>\n",
       "    </tr>\n",
       "    <tr>\n",
       "      <th>35547</th>\n",
       "      <td>35548</td>\n",
       "      <td>12</td>\n",
       "      <td>31</td>\n",
       "      <td>2002</td>\n",
       "      <td>7</td>\n",
       "      <td>DO</td>\n",
       "      <td>M</td>\n",
       "      <td>36.0</td>\n",
       "      <td>51.0</td>\n",
       "    </tr>\n",
       "    <tr>\n",
       "      <th>35548</th>\n",
       "      <td>35549</td>\n",
       "      <td>12</td>\n",
       "      <td>31</td>\n",
       "      <td>2002</td>\n",
       "      <td>5</td>\n",
       "      <td>NaN</td>\n",
       "      <td>NaN</td>\n",
       "      <td>NaN</td>\n",
       "      <td>NaN</td>\n",
       "    </tr>\n",
       "  </tbody>\n",
       "</table>\n",
       "</div>"
      ],
      "text/plain": [
       "       record_id  month  day  year  plot_id species_id  sex  hindfoot_length  \\\n",
       "35544      35545     12   31  2002       15         AH  NaN              NaN   \n",
       "35545      35546     12   31  2002       15         AH  NaN              NaN   \n",
       "35546      35547     12   31  2002       10         RM    F             15.0   \n",
       "35547      35548     12   31  2002        7         DO    M             36.0   \n",
       "35548      35549     12   31  2002        5        NaN  NaN              NaN   \n",
       "\n",
       "       weight  \n",
       "35544     NaN  \n",
       "35545     NaN  \n",
       "35546    14.0  \n",
       "35547    51.0  \n",
       "35548     NaN  "
      ]
     },
<<<<<<< HEAD
     "execution_count": 34,
=======
     "execution_count": 32,
>>>>>>> cb7acbae681d1f0e2ddd924edda07fe0d3edb69f
     "metadata": {},
     "output_type": "execute_result"
    }
   ],
   "source": [
    "# We can look at the bottom of the DataFrame with the tail fucntion:\n",
    "\n",
    "surveys_df.tail()"
   ]
  },
  {
   "cell_type": "code",
<<<<<<< HEAD
   "execution_count": 35,
=======
   "execution_count": 33,
>>>>>>> cb7acbae681d1f0e2ddd924edda07fe0d3edb69f
   "metadata": {},
   "outputs": [
    {
     "data": {
      "text/plain": [
       "pandas.core.frame.DataFrame"
      ]
     },
<<<<<<< HEAD
     "execution_count": 35,
=======
     "execution_count": 33,
>>>>>>> cb7acbae681d1f0e2ddd924edda07fe0d3edb69f
     "metadata": {},
     "output_type": "execute_result"
    }
   ],
   "source": [
    "# We can look at the data type of the DataFrame with the Python type function:\n",
    "\n",
    "type(surveys_df)"
   ]
  },
  {
   "cell_type": "code",
<<<<<<< HEAD
   "execution_count": 36,
=======
   "execution_count": 34,
>>>>>>> cb7acbae681d1f0e2ddd924edda07fe0d3edb69f
   "metadata": {},
   "outputs": [
    {
     "data": {
      "text/plain": [
       "Index(['record_id', 'month', 'day', 'year', 'plot_id', 'species_id', 'sex',\n",
       "       'hindfoot_length', 'weight'],\n",
       "      dtype='object')"
      ]
     },
<<<<<<< HEAD
     "execution_count": 36,
=======
     "execution_count": 34,
>>>>>>> cb7acbae681d1f0e2ddd924edda07fe0d3edb69f
     "metadata": {},
     "output_type": "execute_result"
    }
   ],
   "source": [
    "# We can look at the columns of the DataFrame with the columns variable:\n",
    "\n",
    "surveys_df.columns"
   ]
  },
  {
   "cell_type": "code",
<<<<<<< HEAD
   "execution_count": 37,
=======
   "execution_count": 35,
>>>>>>> cb7acbae681d1f0e2ddd924edda07fe0d3edb69f
   "metadata": {},
   "outputs": [
    {
     "data": {
      "text/plain": [
       "(35549, 9)"
      ]
     },
<<<<<<< HEAD
     "execution_count": 37,
=======
     "execution_count": 35,
>>>>>>> cb7acbae681d1f0e2ddd924edda07fe0d3edb69f
     "metadata": {},
     "output_type": "execute_result"
    }
   ],
   "source": [
    "# We can look at the shape of the DataFrame with the shape variable:\n",
    "\n",
    "surveys_df.shape"
   ]
  },
  {
   "cell_type": "code",
<<<<<<< HEAD
   "execution_count": 38,
=======
   "execution_count": 36,
>>>>>>> cb7acbae681d1f0e2ddd924edda07fe0d3edb69f
   "metadata": {},
   "outputs": [
    {
     "data": {
      "text/plain": [
       "record_id            int64\n",
       "month                int64\n",
       "day                  int64\n",
       "year                 int64\n",
       "plot_id              int64\n",
       "species_id          object\n",
       "sex                 object\n",
       "hindfoot_length    float64\n",
       "weight             float64\n",
       "dtype: object"
      ]
     },
<<<<<<< HEAD
     "execution_count": 38,
=======
     "execution_count": 36,
>>>>>>> cb7acbae681d1f0e2ddd924edda07fe0d3edb69f
     "metadata": {},
     "output_type": "execute_result"
    }
   ],
   "source": [
    "# We can look at the data types of teh DataFrame with the dtypes variables:\n",
    "\n",
    "surveys_df.dtypes"
   ]
  },
  {
   "cell_type": "markdown",
   "metadata": {},
   "source": [
    "### Analyzing and calculating statistics on the *surveys* DataFrame:"
   ]
  },
  {
   "cell_type": "code",
<<<<<<< HEAD
   "execution_count": 39,
=======
   "execution_count": 37,
>>>>>>> cb7acbae681d1f0e2ddd924edda07fe0d3edb69f
   "metadata": {},
   "outputs": [
    {
     "data": {
      "text/html": [
       "<div>\n",
       "<style scoped>\n",
       "    .dataframe tbody tr th:only-of-type {\n",
       "        vertical-align: middle;\n",
       "    }\n",
       "\n",
       "    .dataframe tbody tr th {\n",
       "        vertical-align: top;\n",
       "    }\n",
       "\n",
       "    .dataframe thead th {\n",
       "        text-align: right;\n",
       "    }\n",
       "</style>\n",
       "<table border=\"1\" class=\"dataframe\">\n",
       "  <thead>\n",
       "    <tr style=\"text-align: right;\">\n",
       "      <th></th>\n",
       "      <th>record_id</th>\n",
       "      <th>month</th>\n",
       "      <th>day</th>\n",
       "      <th>year</th>\n",
       "      <th>plot_id</th>\n",
       "      <th>hindfoot_length</th>\n",
       "      <th>weight</th>\n",
       "    </tr>\n",
       "  </thead>\n",
       "  <tbody>\n",
       "    <tr>\n",
       "      <th>count</th>\n",
       "      <td>35549.000000</td>\n",
       "      <td>35549.000000</td>\n",
       "      <td>35549.000000</td>\n",
       "      <td>35549.000000</td>\n",
       "      <td>35549.000000</td>\n",
       "      <td>31438.000000</td>\n",
       "      <td>32283.000000</td>\n",
       "    </tr>\n",
       "    <tr>\n",
       "      <th>mean</th>\n",
       "      <td>17775.000000</td>\n",
       "      <td>6.477847</td>\n",
       "      <td>15.991195</td>\n",
       "      <td>1990.475231</td>\n",
       "      <td>11.397001</td>\n",
       "      <td>29.287932</td>\n",
       "      <td>42.672428</td>\n",
       "    </tr>\n",
       "    <tr>\n",
       "      <th>std</th>\n",
       "      <td>10262.256696</td>\n",
       "      <td>3.396925</td>\n",
       "      <td>8.257366</td>\n",
       "      <td>7.493355</td>\n",
       "      <td>6.799406</td>\n",
       "      <td>9.564759</td>\n",
       "      <td>36.631259</td>\n",
       "    </tr>\n",
       "    <tr>\n",
       "      <th>min</th>\n",
       "      <td>1.000000</td>\n",
       "      <td>1.000000</td>\n",
       "      <td>1.000000</td>\n",
       "      <td>1977.000000</td>\n",
       "      <td>1.000000</td>\n",
       "      <td>2.000000</td>\n",
       "      <td>4.000000</td>\n",
       "    </tr>\n",
       "    <tr>\n",
       "      <th>25%</th>\n",
       "      <td>8888.000000</td>\n",
       "      <td>4.000000</td>\n",
       "      <td>9.000000</td>\n",
       "      <td>1984.000000</td>\n",
       "      <td>5.000000</td>\n",
       "      <td>21.000000</td>\n",
       "      <td>20.000000</td>\n",
       "    </tr>\n",
       "    <tr>\n",
       "      <th>50%</th>\n",
       "      <td>17775.000000</td>\n",
       "      <td>6.000000</td>\n",
       "      <td>16.000000</td>\n",
       "      <td>1990.000000</td>\n",
       "      <td>11.000000</td>\n",
       "      <td>32.000000</td>\n",
       "      <td>37.000000</td>\n",
       "    </tr>\n",
       "    <tr>\n",
       "      <th>75%</th>\n",
       "      <td>26662.000000</td>\n",
       "      <td>10.000000</td>\n",
       "      <td>23.000000</td>\n",
       "      <td>1997.000000</td>\n",
       "      <td>17.000000</td>\n",
       "      <td>36.000000</td>\n",
       "      <td>48.000000</td>\n",
       "    </tr>\n",
       "    <tr>\n",
       "      <th>max</th>\n",
       "      <td>35549.000000</td>\n",
       "      <td>12.000000</td>\n",
       "      <td>31.000000</td>\n",
       "      <td>2002.000000</td>\n",
       "      <td>24.000000</td>\n",
       "      <td>70.000000</td>\n",
       "      <td>280.000000</td>\n",
       "    </tr>\n",
       "  </tbody>\n",
       "</table>\n",
       "</div>"
      ],
      "text/plain": [
       "          record_id         month           day          year       plot_id  \\\n",
       "count  35549.000000  35549.000000  35549.000000  35549.000000  35549.000000   \n",
       "mean   17775.000000      6.477847     15.991195   1990.475231     11.397001   \n",
       "std    10262.256696      3.396925      8.257366      7.493355      6.799406   \n",
       "min        1.000000      1.000000      1.000000   1977.000000      1.000000   \n",
       "25%     8888.000000      4.000000      9.000000   1984.000000      5.000000   \n",
       "50%    17775.000000      6.000000     16.000000   1990.000000     11.000000   \n",
       "75%    26662.000000     10.000000     23.000000   1997.000000     17.000000   \n",
       "max    35549.000000     12.000000     31.000000   2002.000000     24.000000   \n",
       "\n",
       "       hindfoot_length        weight  \n",
       "count     31438.000000  32283.000000  \n",
       "mean         29.287932     42.672428  \n",
       "std           9.564759     36.631259  \n",
       "min           2.000000      4.000000  \n",
       "25%          21.000000     20.000000  \n",
       "50%          32.000000     37.000000  \n",
       "75%          36.000000     48.000000  \n",
       "max          70.000000    280.000000  "
      ]
     },
<<<<<<< HEAD
     "execution_count": 39,
=======
     "execution_count": 37,
>>>>>>> cb7acbae681d1f0e2ddd924edda07fe0d3edb69f
     "metadata": {},
     "output_type": "execute_result"
    }
   ],
   "source": [
    "# We can compute summary statistics of the DataFrame with the describe function:\n",
    "\n",
    "surveys_df.describe()"
   ]
  },
  {
   "cell_type": "code",
   "execution_count": null,
   "metadata": {},
   "outputs": [],
   "source": [
    "# We can compute the unique values in a categorical column of the Data Frame:\n",
    "\n",
    "surveys_df[\"species_id\"].unique()"
   ]
  },
  {
   "cell_type": "code",
   "execution_count": null,
   "metadata": {},
   "outputs": [],
   "source": [
    "# We can compute statistics for a single column of the DataFrame:\n",
    "\n",
    "surveys_df['weight'].describe()"
   ]
  },
  {
   "cell_type": "code",
   "execution_count": null,
   "metadata": {},
   "outputs": [],
   "source": [
    "# We can computes statistics about categories in a column of the DataFrame:\n",
    "\n",
    "grouped_data = surveys_df.groupby('sex')\n",
    "grouped_data.describe()"
   ]
  },
  {
   "cell_type": "code",
   "execution_count": null,
   "metadata": {},
   "outputs": [],
   "source": [
    "# And if we want to see only the counts of each sex of the DataFrame:\n",
    "\n",
    "grouped_data.describe()[\"record_id\"][\"count\"]"
   ]
  },
  {
   "cell_type": "code",
   "execution_count": 47,
   "metadata": {},
   "outputs": [
    {
     "name": "stdout",
     "output_type": "stream",
     "text": [
      "0         NaN\n",
      "1         NaN\n",
      "2         NaN\n",
      "3         NaN\n",
      "4         NaN\n",
      "         ... \n",
      "35544     NaN\n",
      "35545     NaN\n",
      "35546    14.0\n",
      "35547    51.0\n",
      "35548     NaN\n",
      "Name: weight, Length: 35549, dtype: float64 0          NaN\n",
      "1          NaN\n",
      "2          NaN\n",
      "3          NaN\n",
      "4          NaN\n",
      "         ...  \n",
      "35544      NaN\n",
      "35545      NaN\n",
      "35546     28.0\n",
      "35547    102.0\n",
      "35548      NaN\n",
      "Name: weight, Length: 35549, dtype: float64\n"
     ]
    }
   ],
   "source": [
    "# We can also do basic math on numeric columns of the DataFrame:\n",
    "\n",
    "weight_doubled = surveys_df[\"weight\"] * 2\n",
    "print(surveys_df[\"weight\"], weight_doubled)"
   ]
  },
  {
   "cell_type": "code",
   "execution_count": 46,
   "metadata": {},
   "outputs": [
    {
     "name": "stdout",
     "output_type": "stream",
     "text": [
      "species_id\n",
      "AB      303\n",
      "AH      437\n",
      "AS        2\n",
      "BA       46\n",
      "CB       50\n",
      "CM       13\n",
      "CQ       16\n",
      "CS        1\n",
      "CT        1\n",
      "CU        1\n",
      "CV        1\n",
      "DM    10596\n",
      "DO     3027\n",
      "DS     2504\n",
      "DX       40\n",
      "NL     1252\n",
      "OL     1006\n",
      "OT     2249\n",
      "OX       12\n",
      "PB     2891\n",
      "PC       39\n",
      "PE     1299\n",
      "PF     1597\n",
      "PG        8\n",
      "PH       32\n",
      "PI        9\n",
      "PL       36\n",
      "PM      899\n",
      "PP     3123\n",
      "PU        5\n",
      "PX        6\n",
      "RF       75\n",
      "RM     2609\n",
      "RO        8\n",
      "RX        2\n",
      "SA       75\n",
      "SC        1\n",
      "SF       43\n",
      "SH      147\n",
      "SO       43\n",
      "SS      248\n",
      "ST        1\n",
      "SU        5\n",
      "UL        4\n",
      "UP        8\n",
      "UR       10\n",
      "US        4\n",
      "ZL        2\n",
      "Name: record_id, dtype: int64\n"
     ]
    }
   ],
   "source": [
    "# Count the number of samples by species:\n",
    "\n",
    "species_counts = surveys_df.groupby('species_id')['record_id'].count()\n",
    "print(species_counts)"
   ]
  },
  {
   "cell_type": "markdown",
   "metadata": {},
   "source": [
    "### Displaying a graph of data from the *surveys* DataFrame:"
   ]
  },
  {
   "cell_type": "code",
<<<<<<< HEAD
   "execution_count": 41,
=======
   "execution_count": 38,
>>>>>>> cb7acbae681d1f0e2ddd924edda07fe0d3edb69f
   "metadata": {},
   "outputs": [
    {
     "name": "stdout",
     "output_type": "stream",
     "text": [
      "WARNING: pip is being invoked by an old script wrapper. This will fail in a future version of pip.\n",
      "Please see https://github.com/pypa/pip/issues/5599 for advice on fixing the underlying issue.\n",
      "To avoid this problem you can invoke Python with '-m pip' instead of running pip directly.\n",
      "Collecting matplotlib\n",
      "  Downloading matplotlib-3.3.2-cp37-cp37m-manylinux1_x86_64.whl (11.6 MB)\n",
<<<<<<< HEAD
      "\u001b[K     |████████████████████████████████| 11.6 MB 3.0 MB/s eta 0:00:01\n",
      "\u001b[?25hCollecting certifi>=2020.06.20\n",
      "  Downloading certifi-2020.6.20-py2.py3-none-any.whl (156 kB)\n",
      "\u001b[K     |████████████████████████████████| 156 kB 44.8 MB/s eta 0:00:01\n",
      "\u001b[?25hRequirement already satisfied: python-dateutil>=2.1 in /srv/conda/envs/notebook/lib/python3.7/site-packages (from matplotlib) (2.8.1)\n",
      "Collecting cycler>=0.10\n",
      "  Downloading cycler-0.10.0-py2.py3-none-any.whl (6.5 kB)\n",
      "Collecting kiwisolver>=1.0.1\n",
      "  Downloading kiwisolver-1.2.0-cp37-cp37m-manylinux1_x86_64.whl (88 kB)\n",
      "\u001b[K     |████████████████████████████████| 88 kB 10.2 MB/s eta 0:00:01\n",
      "\u001b[?25hRequirement already satisfied: numpy>=1.15 in /srv/conda/envs/notebook/lib/python3.7/site-packages (from matplotlib) (1.19.2)\n",
      "Collecting pillow>=6.2.0\n",
      "  Downloading Pillow-7.2.0-cp37-cp37m-manylinux1_x86_64.whl (2.2 MB)\n",
      "\u001b[K     |████████████████████████████████| 2.2 MB 37.5 MB/s eta 0:00:01\n",
      "\u001b[?25hCollecting pyparsing!=2.0.4,!=2.1.2,!=2.1.6,>=2.0.3\n",
      "  Downloading pyparsing-2.4.7-py2.py3-none-any.whl (67 kB)\n",
      "\u001b[K     |████████████████████████████████| 67 kB 8.2 MB/s  eta 0:00:01\n",
      "\u001b[?25hRequirement already satisfied: six>=1.5 in /srv/conda/envs/notebook/lib/python3.7/site-packages (from python-dateutil>=2.1->matplotlib) (1.14.0)\n",
      "Installing collected packages: certifi, cycler, kiwisolver, pillow, pyparsing, matplotlib\n",
=======
      "\u001b[K     |████████████████████████████████| 11.6 MB 3.2 MB/s eta 0:00:01\n",
      "\u001b[?25hRequirement already satisfied: python-dateutil>=2.1 in /srv/conda/envs/notebook/lib/python3.7/site-packages (from matplotlib) (2.8.1)\n",
      "Collecting certifi>=2020.06.20\n",
      "  Downloading certifi-2020.6.20-py2.py3-none-any.whl (156 kB)\n",
      "\u001b[K     |████████████████████████████████| 156 kB 38.5 MB/s eta 0:00:01\n",
      "\u001b[?25hRequirement already satisfied: numpy>=1.15 in /srv/conda/envs/notebook/lib/python3.7/site-packages (from matplotlib) (1.19.2)\n",
      "Collecting cycler>=0.10\n",
      "  Downloading cycler-0.10.0-py2.py3-none-any.whl (6.5 kB)\n",
      "Collecting pyparsing!=2.0.4,!=2.1.2,!=2.1.6,>=2.0.3\n",
      "  Downloading pyparsing-2.4.7-py2.py3-none-any.whl (67 kB)\n",
      "\u001b[K     |████████████████████████████████| 67 kB 6.8 MB/s  eta 0:00:01\n",
      "\u001b[?25hCollecting kiwisolver>=1.0.1\n",
      "  Downloading kiwisolver-1.2.0-cp37-cp37m-manylinux1_x86_64.whl (88 kB)\n",
      "\u001b[K     |████████████████████████████████| 88 kB 8.5 MB/s  eta 0:00:01\n",
      "\u001b[?25hCollecting pillow>=6.2.0\n",
      "  Downloading Pillow-7.2.0-cp37-cp37m-manylinux1_x86_64.whl (2.2 MB)\n",
      "\u001b[K     |████████████████████████████████| 2.2 MB 48.7 MB/s eta 0:00:01\n",
      "\u001b[?25hRequirement already satisfied: six>=1.5 in /srv/conda/envs/notebook/lib/python3.7/site-packages (from python-dateutil>=2.1->matplotlib) (1.14.0)\n",
      "Installing collected packages: certifi, cycler, pyparsing, kiwisolver, pillow, matplotlib\n",
>>>>>>> cb7acbae681d1f0e2ddd924edda07fe0d3edb69f
      "  Attempting uninstall: certifi\n",
      "    Found existing installation: certifi 2019.11.28\n",
      "    Uninstalling certifi-2019.11.28:\n",
      "      Successfully uninstalled certifi-2019.11.28\n",
      "Successfully installed certifi-2020.6.20 cycler-0.10.0 kiwisolver-1.2.0 matplotlib-3.3.2 pillow-7.2.0 pyparsing-2.4.7\n"
     ]
    }
   ],
   "source": [
    "# Install the plotting library \"matplotlib\"\n",
    "\n",
    "!pip install matplotlib"
   ]
  },
  {
   "cell_type": "code",
<<<<<<< HEAD
   "execution_count": 48,
=======
   "execution_count": 39,
>>>>>>> cb7acbae681d1f0e2ddd924edda07fe0d3edb69f
   "metadata": {},
   "outputs": [],
   "source": [
    "# Make sure figures appear inline in the Notebook with the built-in magic %\n",
    "\n",
    "%matplotlib inline"
   ]
  },
  {
   "cell_type": "code",
   "execution_count": 49,
   "metadata": {},
   "outputs": [
    {
     "data": {
      "image/png": "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\n",
      "text/plain": [
       "<Figure size 432x288 with 1 Axes>"
      ]
     },
     "metadata": {
      "needs_background": "light"
     },
     "output_type": "display_data"
    }
   ],
   "source": [
    "# Create a quick bar chart of specie counts\n",
    "\n",
    "species_counts.plot(kind='bar');"
   ]
  },
  {
   "cell_type": "code",
   "execution_count": 50,
   "metadata": {},
   "outputs": [
    {
     "data": {
      "image/png": "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\n",
      "text/plain": [
       "<Figure size 432x288 with 1 Axes>"
      ]
     },
     "metadata": {
      "needs_background": "light"
     },
     "output_type": "display_data"
    }
   ],
   "source": [
    "# We can also look at how many animals were captured in each site:\n",
    "\n",
    "total_count = surveys_df.groupby('plot_id')['record_id'].nunique()\n",
    "total_count.plot(kind='bar');"
   ]
  }
 ],
 "metadata": {
  "kernelspec": {
   "display_name": "Python 3",
   "language": "python",
   "name": "python3"
  },
  "language_info": {
   "codemirror_mode": {
    "name": "ipython",
    "version": 3
   },
   "file_extension": ".py",
   "mimetype": "text/x-python",
   "name": "python",
   "nbconvert_exporter": "python",
   "pygments_lexer": "ipython3",
   "version": "3.7.6"
  }
 },
 "nbformat": 4,
 "nbformat_minor": 4
}
