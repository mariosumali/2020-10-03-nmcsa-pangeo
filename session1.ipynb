{
 "cells": [
  {
   "cell_type": "markdown",
   "metadata": {},
   "source": [
    "# NM Supercomputing Challenge 2020"
   ]
  },
  {
   "cell_type": "markdown",
   "metadata": {},
   "source": [
    "## Session #1 (Mark Servilla): Introduction to Git and GitHub, Jupyter Notebooks, Python, and pandas"
   ]
  },
  {
   "cell_type": "markdown",
   "metadata": {},
   "source": [
    "---\n",
    "## Interacting with Git and GitHub\n",
    "\n",
    " 1. Fork the [2020-10-03-nmcsa-pangeo](https://github.com/nmcarpentries/2020-10-03-nmcsa-pangeo) repository to your GitHub account\n",
    " 1. Click on the **launch-binder** button near the top of the README.md file (see README.md instructions)\n",
    " 1. Once the *Pangeo Binder* is launched and you see the *JupyterLab* environment, click on the **terminal** button near the bottom of the *Launcher* tab\n",
    " 1. In the terminal window (Linxu Bash shell), we will configure this local Git instance for your profile and set it up to use your \"forked\" repository for saving changes from this Binder environment to your GitHub account:  \n",
    "   ```\n",
    "   export PS1=\"> \"\n",
    "   git config user.email \"mark.servilla@gmail.com\"\n",
    "   git config user.name \"Mark Servilla\"\n",
    "   git remote set-url origin https://github.com/servilla/2020-10-03-nmcsa-pangeo\n",
    "   git remote -v\n",
    "     origin  https://github.com/servilla/2020-10-03-nmcsa-pangeo (fetch)\n",
    "     origin  https://github.com/servilla/2020-10-03-nmcsa-pangeo (push)\n",
    "   ```"
   ]
  },
  {
   "cell_type": "markdown",
   "metadata": {},
   "source": [
    " #### Come to this step at the end of each session\n",
    " 5. To save the work you have just done in this session, we'll use Git to *push* our changes back to your GitHub account. But first, you should always perform a `git pull` before doing your *push*:\n",
    "   ```\n",
    "   git pull\n",
    "   git add *\n",
    "   git commit -m \"Saving changes to GitHub\"\n",
    "   git push\n",
    "     Username for 'https://github.com': servilla\n",
    "     Password for 'https://servilla@github.com':\n",
    "     Counting objects: 4, done.\n",
    "     Delta compression using up to 6 threads.\n",
    "     Compressing objects: 100% (3/3), done.\n",
    "     Writing objects: 100% (4/4), 505 bytes | 505.00 KiB/s, done.\n",
    "     Total 4 (delta 2), reused 0 (delta 0)\n",
    "     remote: Resolving deltas: 100% (2/2), completed with 2 local objects.\n",
    "     To https://github.com/servilla/2020-10-03-nmcsa-pangeo\n",
    "        2963446..0e25a7d  master -> master\n",
    "   ```"
   ]
  },
  {
   "cell_type": "markdown",
   "metadata": {},
   "source": [
    "---\n",
    "## Working with Jupyter Notebooks\n",
    "\n",
    "\"Jupyter notebooks are documents that combine live runnable code with narrative text (Markdown), equations (LaTeX), images, interactive visualizations and other rich output. Jupyter notebooks (.ipynb files) are fully supported in JupyterLab. The notebook document format used in JupyterLab is the same as in the classic Jupyter Notebook. Your existing notebooks should open correctly in JupyterLab.\" - https://jupyterlab.readthedocs.io/en/stable/user/notebook.html\n",
    "\n",
    "Types of cells:\n",
    "  1. Raw cell - to display raw text\n",
    "  1. Code cell - to enter and execute code\n",
    "  1. Markdown cell - to enter and display markdown (like this cell)\n",
    "\n",
    "Common keyboard commands:\n",
    " - Esc - Enter command mode\n",
    " - Enter - Enter edit mode\n",
    " - Ctrl-Enter - Run cell\n",
    " - Alt-Enter - Run cell and insert new cell below\n",
    " - X - Delete cell\n",
    " - C - Copy Cell\n",
    " - A - Insert cell above\n",
    " - B - Insert cell below\n",
    "\n",
    "[Keyboard Shortcuts](https://blog.ja-ke.tech/assets/jupyterlab-shortcuts/Shortcuts2020.png)"
   ]
  },
  {
   "cell_type": "markdown",
   "metadata": {},
   "source": [
    "---\n",
    "## Python quickstart"
   ]
  },
  {
   "cell_type": "markdown",
   "metadata": {},
   "source": [
    "What is Python?\n",
    " - named after the British comedy troup \"Monty Python\"\n",
    " - is an interpreted computer language\n",
    " - developed by Guido van Rossum in 1991."
   ]
  },
  {
   "cell_type": "markdown",
   "metadata": {},
   "source": [
    "### Comments:"
   ]
  },
  {
   "cell_type": "code",
   "execution_count": 1,
   "metadata": {},
   "outputs": [],
   "source": [
    "x = 1  # Comments begin with a \"hash\" or \"sharp\" character x = 1"
   ]
  },
  {
   "cell_type": "markdown",
   "metadata": {},
   "source": [
    "### Built in data types:"
   ]
  },
  {
   "cell_type": "code",
   "execution_count": 2,
   "metadata": {},
   "outputs": [],
   "source": [
    "# Variables in python are symbolic names for data expressions and are created\n",
    "# with the assignment operator \"=\"; variable names may include numbers, but\n",
    "# must start with a letter:\n",
    "\n",
    "text = \"Data Carpentry\"  # An example of a string\n",
    "number = 42  # An example of an integer\n",
    "pi_value = 3.1415  # An example of a float\n",
    "is_true = True  # An example of a boolean"
   ]
  },
  {
   "cell_type": "code",
   "execution_count": 3,
   "metadata": {},
   "outputs": [
    {
     "data": {
      "text/plain": [
       "'Data Carpentry'"
      ]
     },
     "execution_count": 3,
     "metadata": {},
     "output_type": "execute_result"
    }
   ],
   "source": [
    "text"
   ]
  },
  {
   "cell_type": "code",
   "execution_count": 4,
   "metadata": {},
   "outputs": [
    {
     "data": {
      "text/plain": [
       "42"
      ]
     },
     "execution_count": 4,
     "metadata": {},
     "output_type": "execute_result"
    }
   ],
   "source": [
    "number"
   ]
  },
  {
   "cell_type": "code",
   "execution_count": 5,
   "metadata": {},
   "outputs": [
    {
     "data": {
      "text/plain": [
       "3.1415"
      ]
     },
     "execution_count": 5,
     "metadata": {},
     "output_type": "execute_result"
    }
   ],
   "source": [
    "pi_value"
   ]
  },
  {
   "cell_type": "code",
   "execution_count": 6,
   "metadata": {},
   "outputs": [
    {
     "data": {
      "text/plain": [
       "True"
      ]
     },
     "execution_count": 6,
     "metadata": {},
     "output_type": "execute_result"
    }
   ],
   "source": [
    "is_true"
   ]
  },
  {
   "cell_type": "code",
   "execution_count": 7,
   "metadata": {},
   "outputs": [
    {
     "name": "stdout",
     "output_type": "stream",
     "text": [
      "This is a text string:  Data Carpentry\n",
      "This is an integer number:  42\n",
      "This is a floating point or real number:  3.1415\n",
      "This is a boolean:  True\n"
     ]
    }
   ],
   "source": [
    "# We can also use the built-in function \"print\" to produce visual output of\n",
    "# expressions and variables\n",
    "\n",
    "print(\"This is a text string: \", text)\n",
    "print(\"This is an integer number: \", number)\n",
    "print(\"This is a floating point or real number: \", pi_value)\n",
    "print(\"This is a boolean: \", is_true)"
   ]
  },
  {
   "cell_type": "code",
   "execution_count": 8,
   "metadata": {},
   "outputs": [
    {
     "name": "stdout",
     "output_type": "stream",
     "text": [
      "text is type:  <class 'str'>\n",
      "number is type:  <class 'int'>\n",
      "pi_value is type:  <class 'float'>\n",
      "is_true is type:  <class 'bool'>\n"
     ]
    }
   ],
   "source": [
    "# The built-in \"type\" function tells us what data type each variable is using\n",
    "\n",
    "print(\"text is type: \", type(text))\n",
    "print(\"number is type: \", type(number))\n",
    "print(\"pi_value is type: \", type(pi_value))\n",
    "print(\"is_true is type: \", type(is_true))"
   ]
  },
  {
   "cell_type": "markdown",
   "metadata": {},
   "source": [
    "### Operators:"
   ]
  },
  {
   "cell_type": "code",
   "execution_count": 10,
   "metadata": {},
   "outputs": [],
   "source": [
    "# We can perform mathematical calculations in Python using the basic operators\n",
    "# +, -, /, *, %\n",
    "\n",
    "addition = 2 + 2\n",
    "subtraction = 10 - 5\n",
    "multiplication = 4 * 2\n",
    "float_quotient = 12 / 5\n",
    "integer_quotient = 12 // 5\n",
    "remainder = 12 % 5\n",
    "exponentiation = 2 ** 10"
   ]
  },
  {
   "cell_type": "code",
   "execution_count": 11,
   "metadata": {},
   "outputs": [
    {
     "name": "stdout",
     "output_type": "stream",
     "text": [
      "addition = 2 + 2:  4\n",
      "subtraction = 10 - 5:  5\n",
      "multiplication = 4 * 2:  8\n",
      "float_quotient = 12 / 5:  2.4\n",
      "integer_quotient = 12 // 5:  2\n",
      "remainder = 12 % 5:  2\n",
      "exponentiation = 2 ** 10:  1024\n"
     ]
    }
   ],
   "source": [
    "print(\"addition = 2 + 2: \", addition)\n",
    "print(\"subtraction = 10 - 5: \", subtraction)\n",
    "print(\"multiplication = 4 * 2: \", multiplication)\n",
    "print(\"float_quotient = 12 / 5: \", float_quotient)\n",
    "print(\"integer_quotient = 12 // 5: \", integer_quotient)\n",
    "print(\"remainder = 12 % 5: \", remainder)\n",
    "print(\"exponentiation = 2 ** 10: \", exponentiation)"
   ]
  },
  {
   "cell_type": "code",
   "execution_count": 14,
   "metadata": {},
   "outputs": [],
   "source": [
    "# We can also use conditional operators: <, >, ==, !=, <=, >=\n",
    "\n",
    "less_than = 7 < 6\n",
    "greater_than = 6 > 4\n",
    "is_equal = 5 == 5\n",
    "is_not_equal = 5 != 7\n",
    "less_than_or_equal = 2 <= 3\n",
    "greater_than_or_equal = 4 >= 3"
   ]
  },
  {
   "cell_type": "code",
   "execution_count": 15,
   "metadata": {},
   "outputs": [
    {
     "name": "stdout",
     "output_type": "stream",
     "text": [
      "less_than = 7 < 6:  False\n",
      "greater_than = 6 > 4:  True\n",
      "is_equal = 5 == 5:  True\n",
      "is_not_equal = 5 != 7:  True\n",
      "less_than_or_equal = 2 <= 3:  True\n",
      "greater_than_or_equal = 4 >= 3:  True\n"
     ]
    }
   ],
   "source": [
    "print(\"less_than = 7 < 6: \", less_than)\n",
    "print(\"greater_than = 6 > 4: \", greater_than)\n",
    "print(\"is_equal = 5 == 5: \", is_equal)\n",
    "print(\"is_not_equal = 5 != 7: \", is_not_equal)\n",
    "print(\"less_than_or_equal = 2 <= 3: \", less_than_or_equal)\n",
    "print(\"greater_than_or_equal = 4 >= 3: \",greater_than_or_equal)"
   ]
  },
  {
   "cell_type": "code",
   "execution_count": 16,
   "metadata": {},
   "outputs": [],
   "source": [
    "# And logical comparisons using and, or, & not identities\n",
    "\n",
    "and_comparison = True and True\n",
    "or_comparison = True or False\n",
    "not_comparison = not False"
   ]
  },
  {
   "cell_type": "code",
   "execution_count": 17,
   "metadata": {},
   "outputs": [
    {
     "name": "stdout",
     "output_type": "stream",
     "text": [
      "and_comparison = True and True:  True\n",
      "or_comparison = True or False:  True\n",
      "not_comparison = not False:  True\n"
     ]
    }
   ],
   "source": [
    "print(\"and_comparison = True and True: \", and_comparison)\n",
    "print(\"or_comparison = True or False: \", or_comparison)\n",
    "print(\"not_comparison = not False: \", not_comparison)"
   ]
  },
  {
   "cell_type": "markdown",
   "metadata": {},
   "source": [
    "### Lists and Dictionaries:"
   ]
  },
  {
   "cell_type": "code",
   "execution_count": 18,
   "metadata": {},
   "outputs": [
    {
     "data": {
      "text/plain": [
       "1"
      ]
     },
     "execution_count": 18,
     "metadata": {},
     "output_type": "execute_result"
    }
   ],
   "source": [
    "# Lists are a common data structure to hold an ordered sequence of elements.\n",
    "# Each element can be accessed by an index. Note that Python indexes start\n",
    "# with 0 instead of 1\n",
    "\n",
    "numbers = [1, 2, 3]\n",
    "numbers[0]"
   ]
  },
  {
   "cell_type": "code",
   "execution_count": 19,
   "metadata": {},
   "outputs": [
    {
     "name": "stdout",
     "output_type": "stream",
     "text": [
      "1\n",
      "2\n",
      "3\n"
     ]
    }
   ],
   "source": [
    "# A for loop can be used to access the elements in a list or other Python\n",
    "# data structure one at a time. Indentation is very important in Python.\n",
    "# Note that the second line in the example below is indented.\n",
    "\n",
    "for num in numbers:\n",
    "    print(num)"
   ]
  },
  {
   "cell_type": "code",
   "execution_count": 20,
   "metadata": {},
   "outputs": [
    {
     "name": "stdout",
     "output_type": "stream",
     "text": [
      "[1, 2, 3, 4]\n"
     ]
    }
   ],
   "source": [
    "# To add elements to the end of a list, we can use the append method. Methods\n",
    "# are a way to interact with an object (a list, for example). We can invoke a\n",
    "# method using the dot . followed by the method name and a list of arguments\n",
    "# in parentheses. Let’s look at an example using append:\n",
    "\n",
    "numbers.append(4)\n",
    "print(numbers)"
   ]
  },
  {
   "cell_type": "code",
   "execution_count": 22,
   "metadata": {},
   "outputs": [
    {
     "data": {
      "text/plain": [
       "'second'"
      ]
     },
     "execution_count": 22,
     "metadata": {},
     "output_type": "execute_result"
    }
   ],
   "source": [
    "# A dictionary is a container that holds pairs of objects - keys and values:\n",
    "\n",
    "translation = {'one': 'first', 'two': 'second'}\n",
    "translation['two']"
   ]
  },
  {
   "cell_type": "code",
   "execution_count": 23,
   "metadata": {},
   "outputs": [
    {
     "name": "stdout",
     "output_type": "stream",
     "text": [
      "{'first': 'one', 'second': 'two'}\n",
      "{'first': 'one', 'second': 'two', 'third': 'three'}\n"
     ]
    }
   ],
   "source": [
    "# To add an item to the dictionary we assign a value to a new key:\n",
    "\n",
    "rev = {'first': 'one', 'second': 'two'}\n",
    "print(rev)\n",
    "rev['third'] = 'three'\n",
    "print(rev)"
   ]
  },
  {
   "cell_type": "code",
   "execution_count": 24,
   "metadata": {},
   "outputs": [
    {
     "name": "stdout",
     "output_type": "stream",
     "text": [
      "first -> one\n",
      "second -> two\n",
      "third -> three\n"
     ]
    }
   ],
   "source": [
    "# Using for loops with dictionaries is a little more complicated:\n",
    "\n",
    "for key, value in rev.items():\n",
    "    print(key, '->', value)"
   ]
  },
  {
   "cell_type": "markdown",
   "metadata": {},
   "source": [
    "### Functions:"
   ]
  },
  {
   "cell_type": "code",
   "execution_count": 25,
   "metadata": {},
   "outputs": [
    {
     "name": "stdout",
     "output_type": "stream",
     "text": [
      "42\n"
     ]
    }
   ],
   "source": [
    "# Defining a section of code as a function in Python is done using the def\n",
    "# keyword. For example a function that takes two arguments and returns their\n",
    "# sum can be defined as:\n",
    "\n",
    "def add_function(a, b):\n",
    "    result = a + b\n",
    "    return result\n",
    "\n",
    "z = add_function(20, 22)\n",
    "print(z)"
   ]
  },
  {
   "cell_type": "markdown",
   "metadata": {},
   "source": [
    "---\n",
    "## Introduction to Python Pandas"
   ]
  },
  {
   "cell_type": "markdown",
   "metadata": {},
   "source": [
    " - \"pandas is a Python package providing fast, flexible, and expressive data structures designed to make working with “relational” or “labeled” data both easy and intuitive. It aims to be the fundamental high-level building block for doing practical, real world data analysis in Python.\" - https://pandas.pydata.org/pandas-docs/stable/getting_started/overview.html\n",
    " - pandas was created by Wes McKinney in 2008 and the name *pandas* is derived from the term \"panel data\" used in the field of economics.\n",
    " - Think of pandas as a combination of spreadsheet, database, and statiscal software rolled into a single Python package."
   ]
  },
  {
   "cell_type": "markdown",
   "metadata": {},
   "source": [
    "Python doesn’t load all of the libraries available to it by default. We have to add an import statement to our code in order to use library functions. To import a library, we use the syntax import libraryName. If we want to give the library a nickname to shorten the command, we can add as nickNameHere. An example of importing the pandas library using the common nickname pd is below.\n",
    "\n",
    "You must install, then `import` pandas to use it in the notebook:"
   ]
  },
  {
   "cell_type": "code",
   "execution_count": 26,
   "metadata": {},
   "outputs": [
    {
     "name": "stdout",
     "output_type": "stream",
     "text": [
      "WARNING: pip is being invoked by an old script wrapper. This will fail in a future version of pip.\n",
      "Please see https://github.com/pypa/pip/issues/5599 for advice on fixing the underlying issue.\n",
      "To avoid this problem you can invoke Python with '-m pip' instead of running pip directly.\n",
      "Collecting pandas\n",
      "  Downloading pandas-1.1.2-cp37-cp37m-manylinux1_x86_64.whl (10.5 MB)\n",
      "\u001b[K     |████████████████████████████████| 10.5 MB 3.3 MB/s eta 0:00:01\n",
      "\u001b[?25hRequirement already satisfied: python-dateutil>=2.7.3 in /srv/conda/envs/notebook/lib/python3.7/site-packages (from pandas) (2.8.1)\n",
      "Collecting pytz>=2017.2\n",
      "  Downloading pytz-2020.1-py2.py3-none-any.whl (510 kB)\n",
      "\u001b[K     |████████████████████████████████| 510 kB 34.1 MB/s eta 0:00:01\n",
      "\u001b[?25hCollecting numpy>=1.15.4\n",
      "  Downloading numpy-1.19.2-cp37-cp37m-manylinux2010_x86_64.whl (14.5 MB)\n",
      "\u001b[K     |████████████████████████████████| 14.5 MB 43.1 MB/s eta 0:00:01\n",
      "\u001b[?25hRequirement already satisfied: six>=1.5 in /srv/conda/envs/notebook/lib/python3.7/site-packages (from python-dateutil>=2.7.3->pandas) (1.14.0)\n",
      "Installing collected packages: pytz, numpy, pandas\n",
      "Successfully installed numpy-1.19.2 pandas-1.1.2 pytz-2020.1\n"
     ]
    }
   ],
   "source": [
    "# The exclamation point built-in allows you to execute shell commands\n",
    "\n",
    "!pip install pandas"
   ]
  },
  {
   "cell_type": "code",
   "execution_count": 27,
   "metadata": {},
   "outputs": [],
   "source": [
    "import pandas as pd"
   ]
  },
  {
   "cell_type": "markdown",
   "metadata": {},
   "source": [
    "### What is a pandas' DataFrame?\n",
    "\n",
    "\"A DataFrame is a 2-dimensional data structure that can store data of different types (including characters, integers, floating point values, factors and more) in columns. It is similar to a spreadsheet or an SQL table or the `data.frame` in R. A DataFrame always has an index (0-based). An index refers to the position of an element in the data structure.\" - https://datacarpentry.org/python-ecology-lesson/02-starting-with-data/index.html"
   ]
  },
  {
   "cell_type": "markdown",
   "metadata": {},
   "source": [
    "Reading the data file `./data/surveys.csv`:"
   ]
  },
  {
   "cell_type": "code",
   "execution_count": 28,
   "metadata": {},
   "outputs": [],
   "source": [
    "# Note that pd.read_csv is used because we imported pandas as pd\n",
    "surveys_df = pd.read_csv(\"data/surveys.csv\")"
   ]
  },
  {
   "cell_type": "markdown",
   "metadata": {},
   "source": [
    "### Viewing the contents of a the *surveys* DataFrame:"
   ]
  },
  {
   "cell_type": "code",
   "execution_count": 29,
   "metadata": {},
   "outputs": [
    {
     "name": "stdout",
     "output_type": "stream",
     "text": [
      "       record_id  month  day  year  plot_id species_id  sex  hindfoot_length  \\\n",
      "0              1      7   16  1977        2         NL    M             32.0   \n",
      "1              2      7   16  1977        3         NL    M             33.0   \n",
      "2              3      7   16  1977        2         DM    F             37.0   \n",
      "3              4      7   16  1977        7         DM    M             36.0   \n",
      "4              5      7   16  1977        3         DM    M             35.0   \n",
      "...          ...    ...  ...   ...      ...        ...  ...              ...   \n",
      "35544      35545     12   31  2002       15         AH  NaN              NaN   \n",
      "35545      35546     12   31  2002       15         AH  NaN              NaN   \n",
      "35546      35547     12   31  2002       10         RM    F             15.0   \n",
      "35547      35548     12   31  2002        7         DO    M             36.0   \n",
      "35548      35549     12   31  2002        5        NaN  NaN              NaN   \n",
      "\n",
      "       weight  \n",
      "0         NaN  \n",
      "1         NaN  \n",
      "2         NaN  \n",
      "3         NaN  \n",
      "4         NaN  \n",
      "...       ...  \n",
      "35544     NaN  \n",
      "35545     NaN  \n",
      "35546    14.0  \n",
      "35547    51.0  \n",
      "35548     NaN  \n",
      "\n",
      "[35549 rows x 9 columns]\n"
     ]
    }
   ],
   "source": [
    "# We can use the print function to display the DataFrame:\n",
    "\n",
    "print(surveys_df)"
   ]
  },
  {
   "cell_type": "code",
   "execution_count": 30,
   "metadata": {},
   "outputs": [
    {
     "data": {
      "text/html": [
       "<div>\n",
       "<style scoped>\n",
       "    .dataframe tbody tr th:only-of-type {\n",
       "        vertical-align: middle;\n",
       "    }\n",
       "\n",
       "    .dataframe tbody tr th {\n",
       "        vertical-align: top;\n",
       "    }\n",
       "\n",
       "    .dataframe thead th {\n",
       "        text-align: right;\n",
       "    }\n",
       "</style>\n",
       "<table border=\"1\" class=\"dataframe\">\n",
       "  <thead>\n",
       "    <tr style=\"text-align: right;\">\n",
       "      <th></th>\n",
       "      <th>record_id</th>\n",
       "      <th>month</th>\n",
       "      <th>day</th>\n",
       "      <th>year</th>\n",
       "      <th>plot_id</th>\n",
       "      <th>species_id</th>\n",
       "      <th>sex</th>\n",
       "      <th>hindfoot_length</th>\n",
       "      <th>weight</th>\n",
       "    </tr>\n",
       "  </thead>\n",
       "  <tbody>\n",
       "    <tr>\n",
       "      <th>0</th>\n",
       "      <td>1</td>\n",
       "      <td>7</td>\n",
       "      <td>16</td>\n",
       "      <td>1977</td>\n",
       "      <td>2</td>\n",
       "      <td>NL</td>\n",
       "      <td>M</td>\n",
       "      <td>32.0</td>\n",
       "      <td>NaN</td>\n",
       "    </tr>\n",
       "    <tr>\n",
       "      <th>1</th>\n",
       "      <td>2</td>\n",
       "      <td>7</td>\n",
       "      <td>16</td>\n",
       "      <td>1977</td>\n",
       "      <td>3</td>\n",
       "      <td>NL</td>\n",
       "      <td>M</td>\n",
       "      <td>33.0</td>\n",
       "      <td>NaN</td>\n",
       "    </tr>\n",
       "    <tr>\n",
       "      <th>2</th>\n",
       "      <td>3</td>\n",
       "      <td>7</td>\n",
       "      <td>16</td>\n",
       "      <td>1977</td>\n",
       "      <td>2</td>\n",
       "      <td>DM</td>\n",
       "      <td>F</td>\n",
       "      <td>37.0</td>\n",
       "      <td>NaN</td>\n",
       "    </tr>\n",
       "    <tr>\n",
       "      <th>3</th>\n",
       "      <td>4</td>\n",
       "      <td>7</td>\n",
       "      <td>16</td>\n",
       "      <td>1977</td>\n",
       "      <td>7</td>\n",
       "      <td>DM</td>\n",
       "      <td>M</td>\n",
       "      <td>36.0</td>\n",
       "      <td>NaN</td>\n",
       "    </tr>\n",
       "    <tr>\n",
       "      <th>4</th>\n",
       "      <td>5</td>\n",
       "      <td>7</td>\n",
       "      <td>16</td>\n",
       "      <td>1977</td>\n",
       "      <td>3</td>\n",
       "      <td>DM</td>\n",
       "      <td>M</td>\n",
       "      <td>35.0</td>\n",
       "      <td>NaN</td>\n",
       "    </tr>\n",
       "    <tr>\n",
       "      <th>...</th>\n",
       "      <td>...</td>\n",
       "      <td>...</td>\n",
       "      <td>...</td>\n",
       "      <td>...</td>\n",
       "      <td>...</td>\n",
       "      <td>...</td>\n",
       "      <td>...</td>\n",
       "      <td>...</td>\n",
       "      <td>...</td>\n",
       "    </tr>\n",
       "    <tr>\n",
       "      <th>35544</th>\n",
       "      <td>35545</td>\n",
       "      <td>12</td>\n",
       "      <td>31</td>\n",
       "      <td>2002</td>\n",
       "      <td>15</td>\n",
       "      <td>AH</td>\n",
       "      <td>NaN</td>\n",
       "      <td>NaN</td>\n",
       "      <td>NaN</td>\n",
       "    </tr>\n",
       "    <tr>\n",
       "      <th>35545</th>\n",
       "      <td>35546</td>\n",
       "      <td>12</td>\n",
       "      <td>31</td>\n",
       "      <td>2002</td>\n",
       "      <td>15</td>\n",
       "      <td>AH</td>\n",
       "      <td>NaN</td>\n",
       "      <td>NaN</td>\n",
       "      <td>NaN</td>\n",
       "    </tr>\n",
       "    <tr>\n",
       "      <th>35546</th>\n",
       "      <td>35547</td>\n",
       "      <td>12</td>\n",
       "      <td>31</td>\n",
       "      <td>2002</td>\n",
       "      <td>10</td>\n",
       "      <td>RM</td>\n",
       "      <td>F</td>\n",
       "      <td>15.0</td>\n",
       "      <td>14.0</td>\n",
       "    </tr>\n",
       "    <tr>\n",
       "      <th>35547</th>\n",
       "      <td>35548</td>\n",
       "      <td>12</td>\n",
       "      <td>31</td>\n",
       "      <td>2002</td>\n",
       "      <td>7</td>\n",
       "      <td>DO</td>\n",
       "      <td>M</td>\n",
       "      <td>36.0</td>\n",
       "      <td>51.0</td>\n",
       "    </tr>\n",
       "    <tr>\n",
       "      <th>35548</th>\n",
       "      <td>35549</td>\n",
       "      <td>12</td>\n",
       "      <td>31</td>\n",
       "      <td>2002</td>\n",
       "      <td>5</td>\n",
       "      <td>NaN</td>\n",
       "      <td>NaN</td>\n",
       "      <td>NaN</td>\n",
       "      <td>NaN</td>\n",
       "    </tr>\n",
       "  </tbody>\n",
       "</table>\n",
       "<p>35549 rows × 9 columns</p>\n",
       "</div>"
      ],
      "text/plain": [
       "       record_id  month  day  year  plot_id species_id  sex  hindfoot_length  \\\n",
       "0              1      7   16  1977        2         NL    M             32.0   \n",
       "1              2      7   16  1977        3         NL    M             33.0   \n",
       "2              3      7   16  1977        2         DM    F             37.0   \n",
       "3              4      7   16  1977        7         DM    M             36.0   \n",
       "4              5      7   16  1977        3         DM    M             35.0   \n",
       "...          ...    ...  ...   ...      ...        ...  ...              ...   \n",
       "35544      35545     12   31  2002       15         AH  NaN              NaN   \n",
       "35545      35546     12   31  2002       15         AH  NaN              NaN   \n",
       "35546      35547     12   31  2002       10         RM    F             15.0   \n",
       "35547      35548     12   31  2002        7         DO    M             36.0   \n",
       "35548      35549     12   31  2002        5        NaN  NaN              NaN   \n",
       "\n",
       "       weight  \n",
       "0         NaN  \n",
       "1         NaN  \n",
       "2         NaN  \n",
       "3         NaN  \n",
       "4         NaN  \n",
       "...       ...  \n",
       "35544     NaN  \n",
       "35545     NaN  \n",
       "35546    14.0  \n",
       "35547    51.0  \n",
       "35548     NaN  \n",
       "\n",
       "[35549 rows x 9 columns]"
      ]
     },
     "execution_count": 30,
     "metadata": {},
     "output_type": "execute_result"
    }
   ],
   "source": [
    "# But just letting the Jupyter Notebook format the default output is much nicer:\n",
    "\n",
    "surveys_df"
   ]
  },
  {
   "cell_type": "markdown",
   "metadata": {},
   "source": [
    "### Exploring the structure of the *surveys* DataFrame:"
   ]
  },
  {
   "cell_type": "code",
   "execution_count": 31,
   "metadata": {},
   "outputs": [
    {
     "data": {
      "text/html": [
       "<div>\n",
       "<style scoped>\n",
       "    .dataframe tbody tr th:only-of-type {\n",
       "        vertical-align: middle;\n",
       "    }\n",
       "\n",
       "    .dataframe tbody tr th {\n",
       "        vertical-align: top;\n",
       "    }\n",
       "\n",
       "    .dataframe thead th {\n",
       "        text-align: right;\n",
       "    }\n",
       "</style>\n",
       "<table border=\"1\" class=\"dataframe\">\n",
       "  <thead>\n",
       "    <tr style=\"text-align: right;\">\n",
       "      <th></th>\n",
       "      <th>record_id</th>\n",
       "      <th>month</th>\n",
       "      <th>day</th>\n",
       "      <th>year</th>\n",
       "      <th>plot_id</th>\n",
       "      <th>species_id</th>\n",
       "      <th>sex</th>\n",
       "      <th>hindfoot_length</th>\n",
       "      <th>weight</th>\n",
       "    </tr>\n",
       "  </thead>\n",
       "  <tbody>\n",
       "    <tr>\n",
       "      <th>0</th>\n",
       "      <td>1</td>\n",
       "      <td>7</td>\n",
       "      <td>16</td>\n",
       "      <td>1977</td>\n",
       "      <td>2</td>\n",
       "      <td>NL</td>\n",
       "      <td>M</td>\n",
       "      <td>32.0</td>\n",
       "      <td>NaN</td>\n",
       "    </tr>\n",
       "    <tr>\n",
       "      <th>1</th>\n",
       "      <td>2</td>\n",
       "      <td>7</td>\n",
       "      <td>16</td>\n",
       "      <td>1977</td>\n",
       "      <td>3</td>\n",
       "      <td>NL</td>\n",
       "      <td>M</td>\n",
       "      <td>33.0</td>\n",
       "      <td>NaN</td>\n",
       "    </tr>\n",
       "    <tr>\n",
       "      <th>2</th>\n",
       "      <td>3</td>\n",
       "      <td>7</td>\n",
       "      <td>16</td>\n",
       "      <td>1977</td>\n",
       "      <td>2</td>\n",
       "      <td>DM</td>\n",
       "      <td>F</td>\n",
       "      <td>37.0</td>\n",
       "      <td>NaN</td>\n",
       "    </tr>\n",
       "    <tr>\n",
       "      <th>3</th>\n",
       "      <td>4</td>\n",
       "      <td>7</td>\n",
       "      <td>16</td>\n",
       "      <td>1977</td>\n",
       "      <td>7</td>\n",
       "      <td>DM</td>\n",
       "      <td>M</td>\n",
       "      <td>36.0</td>\n",
       "      <td>NaN</td>\n",
       "    </tr>\n",
       "    <tr>\n",
       "      <th>4</th>\n",
       "      <td>5</td>\n",
       "      <td>7</td>\n",
       "      <td>16</td>\n",
       "      <td>1977</td>\n",
       "      <td>3</td>\n",
       "      <td>DM</td>\n",
       "      <td>M</td>\n",
       "      <td>35.0</td>\n",
       "      <td>NaN</td>\n",
       "    </tr>\n",
       "  </tbody>\n",
       "</table>\n",
       "</div>"
      ],
      "text/plain": [
       "   record_id  month  day  year  plot_id species_id sex  hindfoot_length  \\\n",
       "0          1      7   16  1977        2         NL   M             32.0   \n",
       "1          2      7   16  1977        3         NL   M             33.0   \n",
       "2          3      7   16  1977        2         DM   F             37.0   \n",
       "3          4      7   16  1977        7         DM   M             36.0   \n",
       "4          5      7   16  1977        3         DM   M             35.0   \n",
       "\n",
       "   weight  \n",
       "0     NaN  \n",
       "1     NaN  \n",
       "2     NaN  \n",
       "3     NaN  \n",
       "4     NaN  "
      ]
     },
     "execution_count": 31,
     "metadata": {},
     "output_type": "execute_result"
    }
   ],
   "source": [
    "# We can look at the top of the DataFrame with the head fucntion:\n",
    "\n",
    "surveys_df.head()"
   ]
  },
  {
   "cell_type": "code",
   "execution_count": 32,
   "metadata": {},
   "outputs": [
    {
     "data": {
      "text/html": [
       "<div>\n",
       "<style scoped>\n",
       "    .dataframe tbody tr th:only-of-type {\n",
       "        vertical-align: middle;\n",
       "    }\n",
       "\n",
       "    .dataframe tbody tr th {\n",
       "        vertical-align: top;\n",
       "    }\n",
       "\n",
       "    .dataframe thead th {\n",
       "        text-align: right;\n",
       "    }\n",
       "</style>\n",
       "<table border=\"1\" class=\"dataframe\">\n",
       "  <thead>\n",
       "    <tr style=\"text-align: right;\">\n",
       "      <th></th>\n",
       "      <th>record_id</th>\n",
       "      <th>month</th>\n",
       "      <th>day</th>\n",
       "      <th>year</th>\n",
       "      <th>plot_id</th>\n",
       "      <th>species_id</th>\n",
       "      <th>sex</th>\n",
       "      <th>hindfoot_length</th>\n",
       "      <th>weight</th>\n",
       "    </tr>\n",
       "  </thead>\n",
       "  <tbody>\n",
       "    <tr>\n",
       "      <th>35544</th>\n",
       "      <td>35545</td>\n",
       "      <td>12</td>\n",
       "      <td>31</td>\n",
       "      <td>2002</td>\n",
       "      <td>15</td>\n",
       "      <td>AH</td>\n",
       "      <td>NaN</td>\n",
       "      <td>NaN</td>\n",
       "      <td>NaN</td>\n",
       "    </tr>\n",
       "    <tr>\n",
       "      <th>35545</th>\n",
       "      <td>35546</td>\n",
       "      <td>12</td>\n",
       "      <td>31</td>\n",
       "      <td>2002</td>\n",
       "      <td>15</td>\n",
       "      <td>AH</td>\n",
       "      <td>NaN</td>\n",
       "      <td>NaN</td>\n",
       "      <td>NaN</td>\n",
       "    </tr>\n",
       "    <tr>\n",
       "      <th>35546</th>\n",
       "      <td>35547</td>\n",
       "      <td>12</td>\n",
       "      <td>31</td>\n",
       "      <td>2002</td>\n",
       "      <td>10</td>\n",
       "      <td>RM</td>\n",
       "      <td>F</td>\n",
       "      <td>15.0</td>\n",
       "      <td>14.0</td>\n",
       "    </tr>\n",
       "    <tr>\n",
       "      <th>35547</th>\n",
       "      <td>35548</td>\n",
       "      <td>12</td>\n",
       "      <td>31</td>\n",
       "      <td>2002</td>\n",
       "      <td>7</td>\n",
       "      <td>DO</td>\n",
       "      <td>M</td>\n",
       "      <td>36.0</td>\n",
       "      <td>51.0</td>\n",
       "    </tr>\n",
       "    <tr>\n",
       "      <th>35548</th>\n",
       "      <td>35549</td>\n",
       "      <td>12</td>\n",
       "      <td>31</td>\n",
       "      <td>2002</td>\n",
       "      <td>5</td>\n",
       "      <td>NaN</td>\n",
       "      <td>NaN</td>\n",
       "      <td>NaN</td>\n",
       "      <td>NaN</td>\n",
       "    </tr>\n",
       "  </tbody>\n",
       "</table>\n",
       "</div>"
      ],
      "text/plain": [
       "       record_id  month  day  year  plot_id species_id  sex  hindfoot_length  \\\n",
       "35544      35545     12   31  2002       15         AH  NaN              NaN   \n",
       "35545      35546     12   31  2002       15         AH  NaN              NaN   \n",
       "35546      35547     12   31  2002       10         RM    F             15.0   \n",
       "35547      35548     12   31  2002        7         DO    M             36.0   \n",
       "35548      35549     12   31  2002        5        NaN  NaN              NaN   \n",
       "\n",
       "       weight  \n",
       "35544     NaN  \n",
       "35545     NaN  \n",
       "35546    14.0  \n",
       "35547    51.0  \n",
       "35548     NaN  "
      ]
     },
     "execution_count": 32,
     "metadata": {},
     "output_type": "execute_result"
    }
   ],
   "source": [
    "# We can look at the bottom of the DataFrame with the tail fucntion:\n",
    "\n",
    "surveys_df.tail()"
   ]
  },
  {
   "cell_type": "code",
   "execution_count": 33,
   "metadata": {},
   "outputs": [
    {
     "data": {
      "text/plain": [
       "pandas.core.frame.DataFrame"
      ]
     },
     "execution_count": 33,
     "metadata": {},
     "output_type": "execute_result"
    }
   ],
   "source": [
    "# We can look at the data type of the DataFrame with the Python type function:\n",
    "\n",
    "type(surveys_df)"
   ]
  },
  {
   "cell_type": "code",
   "execution_count": 34,
   "metadata": {},
   "outputs": [
    {
     "data": {
      "text/plain": [
       "Index(['record_id', 'month', 'day', 'year', 'plot_id', 'species_id', 'sex',\n",
       "       'hindfoot_length', 'weight'],\n",
       "      dtype='object')"
      ]
     },
     "execution_count": 34,
     "metadata": {},
     "output_type": "execute_result"
    }
   ],
   "source": [
    "# We can look at the columns of the DataFrame with the columns variable:\n",
    "\n",
    "surveys_df.columns"
   ]
  },
  {
   "cell_type": "code",
   "execution_count": 35,
   "metadata": {},
   "outputs": [
    {
     "data": {
      "text/plain": [
       "(35549, 9)"
      ]
     },
     "execution_count": 35,
     "metadata": {},
     "output_type": "execute_result"
    }
   ],
   "source": [
    "# We can look at the shape of the DataFrame with the shape variable:\n",
    "\n",
    "surveys_df.shape"
   ]
  },
  {
   "cell_type": "code",
   "execution_count": 36,
   "metadata": {},
   "outputs": [
    {
     "data": {
      "text/plain": [
       "record_id            int64\n",
       "month                int64\n",
       "day                  int64\n",
       "year                 int64\n",
       "plot_id              int64\n",
       "species_id          object\n",
       "sex                 object\n",
       "hindfoot_length    float64\n",
       "weight             float64\n",
       "dtype: object"
      ]
     },
     "execution_count": 36,
     "metadata": {},
     "output_type": "execute_result"
    }
   ],
   "source": [
    "# We can look at the data types of teh DataFrame with the dtypes variables:\n",
    "\n",
    "surveys_df.dtypes"
   ]
  },
  {
   "cell_type": "markdown",
   "metadata": {},
   "source": [
    "### Analyzing and calculating statistics on the *surveys* DataFrame:"
   ]
  },
  {
   "cell_type": "code",
   "execution_count": 37,
   "metadata": {},
   "outputs": [
    {
     "data": {
      "text/html": [
       "<div>\n",
       "<style scoped>\n",
       "    .dataframe tbody tr th:only-of-type {\n",
       "        vertical-align: middle;\n",
       "    }\n",
       "\n",
       "    .dataframe tbody tr th {\n",
       "        vertical-align: top;\n",
       "    }\n",
       "\n",
       "    .dataframe thead th {\n",
       "        text-align: right;\n",
       "    }\n",
       "</style>\n",
       "<table border=\"1\" class=\"dataframe\">\n",
       "  <thead>\n",
       "    <tr style=\"text-align: right;\">\n",
       "      <th></th>\n",
       "      <th>record_id</th>\n",
       "      <th>month</th>\n",
       "      <th>day</th>\n",
       "      <th>year</th>\n",
       "      <th>plot_id</th>\n",
       "      <th>hindfoot_length</th>\n",
       "      <th>weight</th>\n",
       "    </tr>\n",
       "  </thead>\n",
       "  <tbody>\n",
       "    <tr>\n",
       "      <th>count</th>\n",
       "      <td>35549.000000</td>\n",
       "      <td>35549.000000</td>\n",
       "      <td>35549.000000</td>\n",
       "      <td>35549.000000</td>\n",
       "      <td>35549.000000</td>\n",
       "      <td>31438.000000</td>\n",
       "      <td>32283.000000</td>\n",
       "    </tr>\n",
       "    <tr>\n",
       "      <th>mean</th>\n",
       "      <td>17775.000000</td>\n",
       "      <td>6.477847</td>\n",
       "      <td>15.991195</td>\n",
       "      <td>1990.475231</td>\n",
       "      <td>11.397001</td>\n",
       "      <td>29.287932</td>\n",
       "      <td>42.672428</td>\n",
       "    </tr>\n",
       "    <tr>\n",
       "      <th>std</th>\n",
       "      <td>10262.256696</td>\n",
       "      <td>3.396925</td>\n",
       "      <td>8.257366</td>\n",
       "      <td>7.493355</td>\n",
       "      <td>6.799406</td>\n",
       "      <td>9.564759</td>\n",
       "      <td>36.631259</td>\n",
       "    </tr>\n",
       "    <tr>\n",
       "      <th>min</th>\n",
       "      <td>1.000000</td>\n",
       "      <td>1.000000</td>\n",
       "      <td>1.000000</td>\n",
       "      <td>1977.000000</td>\n",
       "      <td>1.000000</td>\n",
       "      <td>2.000000</td>\n",
       "      <td>4.000000</td>\n",
       "    </tr>\n",
       "    <tr>\n",
       "      <th>25%</th>\n",
       "      <td>8888.000000</td>\n",
       "      <td>4.000000</td>\n",
       "      <td>9.000000</td>\n",
       "      <td>1984.000000</td>\n",
       "      <td>5.000000</td>\n",
       "      <td>21.000000</td>\n",
       "      <td>20.000000</td>\n",
       "    </tr>\n",
       "    <tr>\n",
       "      <th>50%</th>\n",
       "      <td>17775.000000</td>\n",
       "      <td>6.000000</td>\n",
       "      <td>16.000000</td>\n",
       "      <td>1990.000000</td>\n",
       "      <td>11.000000</td>\n",
       "      <td>32.000000</td>\n",
       "      <td>37.000000</td>\n",
       "    </tr>\n",
       "    <tr>\n",
       "      <th>75%</th>\n",
       "      <td>26662.000000</td>\n",
       "      <td>10.000000</td>\n",
       "      <td>23.000000</td>\n",
       "      <td>1997.000000</td>\n",
       "      <td>17.000000</td>\n",
       "      <td>36.000000</td>\n",
       "      <td>48.000000</td>\n",
       "    </tr>\n",
       "    <tr>\n",
       "      <th>max</th>\n",
       "      <td>35549.000000</td>\n",
       "      <td>12.000000</td>\n",
       "      <td>31.000000</td>\n",
       "      <td>2002.000000</td>\n",
       "      <td>24.000000</td>\n",
       "      <td>70.000000</td>\n",
       "      <td>280.000000</td>\n",
       "    </tr>\n",
       "  </tbody>\n",
       "</table>\n",
       "</div>"
      ],
      "text/plain": [
       "          record_id         month           day          year       plot_id  \\\n",
       "count  35549.000000  35549.000000  35549.000000  35549.000000  35549.000000   \n",
       "mean   17775.000000      6.477847     15.991195   1990.475231     11.397001   \n",
       "std    10262.256696      3.396925      8.257366      7.493355      6.799406   \n",
       "min        1.000000      1.000000      1.000000   1977.000000      1.000000   \n",
       "25%     8888.000000      4.000000      9.000000   1984.000000      5.000000   \n",
       "50%    17775.000000      6.000000     16.000000   1990.000000     11.000000   \n",
       "75%    26662.000000     10.000000     23.000000   1997.000000     17.000000   \n",
       "max    35549.000000     12.000000     31.000000   2002.000000     24.000000   \n",
       "\n",
       "       hindfoot_length        weight  \n",
       "count     31438.000000  32283.000000  \n",
       "mean         29.287932     42.672428  \n",
       "std           9.564759     36.631259  \n",
       "min           2.000000      4.000000  \n",
       "25%          21.000000     20.000000  \n",
       "50%          32.000000     37.000000  \n",
       "75%          36.000000     48.000000  \n",
       "max          70.000000    280.000000  "
      ]
     },
     "execution_count": 37,
     "metadata": {},
     "output_type": "execute_result"
    }
   ],
   "source": [
    "# We can compute summary statistics of the DataFrame with the describe function:\n",
    "\n",
    "surveys_df.describe()"
   ]
  },
  {
   "cell_type": "code",
   "execution_count": null,
   "metadata": {},
   "outputs": [],
   "source": [
    "# We can compute the unique values in a categorical column of the Data Frame:\n",
    "\n",
    "surveys_df[\"species_id\"].unique()"
   ]
  },
  {
   "cell_type": "code",
   "execution_count": null,
   "metadata": {},
   "outputs": [],
   "source": [
    "# We can compute statistics for a single column of the DataFrame:\n",
    "\n",
    "surveys_df['weight'].describe()"
   ]
  },
  {
   "cell_type": "code",
   "execution_count": null,
   "metadata": {},
   "outputs": [],
   "source": [
    "# We can computes statistics about categories in a column of the DataFrame:\n",
    "\n",
    "grouped_data = surveys_df.groupby('sex')\n",
    "grouped_data.describe()"
   ]
  },
  {
   "cell_type": "code",
   "execution_count": null,
   "metadata": {},
   "outputs": [],
   "source": [
    "# And if we want to see only the counts of each sex of the DataFrame:\n",
    "\n",
    "grouped_data.describe()[\"record_id\"][\"count\"]"
   ]
  },
  {
   "cell_type": "code",
   "execution_count": null,
   "metadata": {},
   "outputs": [],
   "source": [
    "# We can also do basic math on numeric columns of the DataFrame:\n",
    "\n",
    "weight_doubled = surveys_df[\"weight\"] * 2\n",
    "print(surveys_df[\"weight\"], weight_doubled)"
   ]
  },
  {
   "cell_type": "code",
   "execution_count": null,
   "metadata": {},
   "outputs": [],
   "source": [
    "# Count the number of samples by species:\n",
    "\n",
    "species_counts = surveys_df.groupby('species_id')['record_id'].count()\n",
    "print(species_counts)"
   ]
  },
  {
   "cell_type": "markdown",
   "metadata": {},
   "source": [
    "### Displaying a graph of data from the *surveys* DataFrame:"
   ]
  },
  {
   "cell_type": "code",
   "execution_count": 38,
   "metadata": {},
   "outputs": [
    {
     "name": "stdout",
     "output_type": "stream",
     "text": [
      "WARNING: pip is being invoked by an old script wrapper. This will fail in a future version of pip.\n",
      "Please see https://github.com/pypa/pip/issues/5599 for advice on fixing the underlying issue.\n",
      "To avoid this problem you can invoke Python with '-m pip' instead of running pip directly.\n",
      "Collecting matplotlib\n",
      "  Downloading matplotlib-3.3.2-cp37-cp37m-manylinux1_x86_64.whl (11.6 MB)\n",
      "\u001b[K     |████████████████████████████████| 11.6 MB 3.2 MB/s eta 0:00:01\n",
      "\u001b[?25hRequirement already satisfied: python-dateutil>=2.1 in /srv/conda/envs/notebook/lib/python3.7/site-packages (from matplotlib) (2.8.1)\n",
      "Collecting certifi>=2020.06.20\n",
      "  Downloading certifi-2020.6.20-py2.py3-none-any.whl (156 kB)\n",
      "\u001b[K     |████████████████████████████████| 156 kB 38.5 MB/s eta 0:00:01\n",
      "\u001b[?25hRequirement already satisfied: numpy>=1.15 in /srv/conda/envs/notebook/lib/python3.7/site-packages (from matplotlib) (1.19.2)\n",
      "Collecting cycler>=0.10\n",
      "  Downloading cycler-0.10.0-py2.py3-none-any.whl (6.5 kB)\n",
      "Collecting pyparsing!=2.0.4,!=2.1.2,!=2.1.6,>=2.0.3\n",
      "  Downloading pyparsing-2.4.7-py2.py3-none-any.whl (67 kB)\n",
      "\u001b[K     |████████████████████████████████| 67 kB 6.8 MB/s  eta 0:00:01\n",
      "\u001b[?25hCollecting kiwisolver>=1.0.1\n",
      "  Downloading kiwisolver-1.2.0-cp37-cp37m-manylinux1_x86_64.whl (88 kB)\n",
      "\u001b[K     |████████████████████████████████| 88 kB 8.5 MB/s  eta 0:00:01\n",
      "\u001b[?25hCollecting pillow>=6.2.0\n",
      "  Downloading Pillow-7.2.0-cp37-cp37m-manylinux1_x86_64.whl (2.2 MB)\n",
      "\u001b[K     |████████████████████████████████| 2.2 MB 48.7 MB/s eta 0:00:01\n",
      "\u001b[?25hRequirement already satisfied: six>=1.5 in /srv/conda/envs/notebook/lib/python3.7/site-packages (from python-dateutil>=2.1->matplotlib) (1.14.0)\n",
      "Installing collected packages: certifi, cycler, pyparsing, kiwisolver, pillow, matplotlib\n",
      "  Attempting uninstall: certifi\n",
      "    Found existing installation: certifi 2019.11.28\n",
      "    Uninstalling certifi-2019.11.28:\n",
      "      Successfully uninstalled certifi-2019.11.28\n",
      "Successfully installed certifi-2020.6.20 cycler-0.10.0 kiwisolver-1.2.0 matplotlib-3.3.2 pillow-7.2.0 pyparsing-2.4.7\n"
     ]
    }
   ],
   "source": [
    "# Install the plotting library \"matplotlib\"\n",
    "\n",
    "!pip install matplotlib"
   ]
  },
  {
   "cell_type": "code",
   "execution_count": 39,
   "metadata": {},
   "outputs": [],
   "source": [
    "# Make sure figures appear inline in the Notebook with the built-in magic %\n",
    "\n",
    "%matplotlib inline"
   ]
  },
  {
   "cell_type": "code",
   "execution_count": null,
   "metadata": {},
   "outputs": [],
   "source": [
    "# Create a quick bar chart of specie counts\n",
    "\n",
    "species_counts.plot(kind='bar');"
   ]
  },
  {
   "cell_type": "code",
   "execution_count": null,
   "metadata": {},
   "outputs": [],
   "source": [
    "# We can also look at how many animals were captured in each site:\n",
    "\n",
    "total_count = surveys_df.groupby('plot_id')['record_id'].nunique()\n",
    "total_count.plot(kind='bar');"
   ]
  }
 ],
 "metadata": {
  "kernelspec": {
   "display_name": "Python 3",
   "language": "python",
   "name": "python3"
  },
  "language_info": {
   "codemirror_mode": {
    "name": "ipython",
    "version": 3
   },
   "file_extension": ".py",
   "mimetype": "text/x-python",
   "name": "python",
   "nbconvert_exporter": "python",
   "pygments_lexer": "ipython3",
   "version": "3.7.6"
  }
 },
 "nbformat": 4,
 "nbformat_minor": 4
}
